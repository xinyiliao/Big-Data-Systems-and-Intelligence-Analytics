{
 "cells": [
  {
   "cell_type": "code",
   "execution_count": 702,
   "metadata": {
    "collapsed": true
   },
   "outputs": [],
   "source": [
    "import pylab\n",
    "import numpy as np\n",
    "import pandas as pd\n",
    "import seaborn as sn\n",
    "from scipy import stats\n",
    "import matplotlib.pyplot as plt\n",
    "from mpl_toolkits.mplot3d import Axes3D\n",
    "import warnings\n",
    "pd.options.mode.chained_assignment = None\n",
    "warnings.filterwarnings(\"ignore\", category=DeprecationWarning)\n",
    "%matplotlib inline"
   ]
  },
  {
   "cell_type": "code",
   "execution_count": 612,
   "metadata": {
    "collapsed": true
   },
   "outputs": [],
   "source": [
    "from sklearn import cross_validation\n",
    "from sklearn.cluster import KMeans\n",
    "from sklearn.linear_model import  LinearRegression\n",
    "from sklearn.metrics import explained_variance_score\n",
    "import  statsmodels.api as sm\n",
    "from sklearn.cross_validation import train_test_split"
   ]
  },
  {
   "cell_type": "markdown",
   "metadata": {},
   "source": [
    "# Data Import and Preprocessing"
   ]
  },
  {
   "cell_type": "code",
   "execution_count": 613,
   "metadata": {
    "collapsed": true
   },
   "outputs": [],
   "source": [
    "df = pd.read_csv(\"train.csv\")\n"
   ]
  },
  {
   "cell_type": "code",
   "execution_count": 614,
   "metadata": {},
   "outputs": [
    {
     "data": {
      "text/html": [
       "<div>\n",
       "<style>\n",
       "    .dataframe thead tr:only-child th {\n",
       "        text-align: right;\n",
       "    }\n",
       "\n",
       "    .dataframe thead th {\n",
       "        text-align: left;\n",
       "    }\n",
       "\n",
       "    .dataframe tbody tr th {\n",
       "        vertical-align: top;\n",
       "    }\n",
       "</style>\n",
       "<table border=\"1\" class=\"dataframe\">\n",
       "  <thead>\n",
       "    <tr style=\"text-align: right;\">\n",
       "      <th></th>\n",
       "      <th>datetime</th>\n",
       "      <th>season</th>\n",
       "      <th>holiday</th>\n",
       "      <th>workingday</th>\n",
       "      <th>weather</th>\n",
       "      <th>temp</th>\n",
       "      <th>atemp</th>\n",
       "      <th>humidity</th>\n",
       "      <th>windspeed</th>\n",
       "      <th>casual</th>\n",
       "      <th>registered</th>\n",
       "      <th>count</th>\n",
       "    </tr>\n",
       "  </thead>\n",
       "  <tbody>\n",
       "    <tr>\n",
       "      <th>0</th>\n",
       "      <td>2011-01-01 00:00:00</td>\n",
       "      <td>1</td>\n",
       "      <td>0</td>\n",
       "      <td>0</td>\n",
       "      <td>1</td>\n",
       "      <td>9.84</td>\n",
       "      <td>14.395</td>\n",
       "      <td>81</td>\n",
       "      <td>0.0</td>\n",
       "      <td>3</td>\n",
       "      <td>13</td>\n",
       "      <td>16</td>\n",
       "    </tr>\n",
       "    <tr>\n",
       "      <th>1</th>\n",
       "      <td>2011-01-01 01:00:00</td>\n",
       "      <td>1</td>\n",
       "      <td>0</td>\n",
       "      <td>0</td>\n",
       "      <td>1</td>\n",
       "      <td>9.02</td>\n",
       "      <td>13.635</td>\n",
       "      <td>80</td>\n",
       "      <td>0.0</td>\n",
       "      <td>8</td>\n",
       "      <td>32</td>\n",
       "      <td>40</td>\n",
       "    </tr>\n",
       "    <tr>\n",
       "      <th>2</th>\n",
       "      <td>2011-01-01 02:00:00</td>\n",
       "      <td>1</td>\n",
       "      <td>0</td>\n",
       "      <td>0</td>\n",
       "      <td>1</td>\n",
       "      <td>9.02</td>\n",
       "      <td>13.635</td>\n",
       "      <td>80</td>\n",
       "      <td>0.0</td>\n",
       "      <td>5</td>\n",
       "      <td>27</td>\n",
       "      <td>32</td>\n",
       "    </tr>\n",
       "    <tr>\n",
       "      <th>3</th>\n",
       "      <td>2011-01-01 03:00:00</td>\n",
       "      <td>1</td>\n",
       "      <td>0</td>\n",
       "      <td>0</td>\n",
       "      <td>1</td>\n",
       "      <td>9.84</td>\n",
       "      <td>14.395</td>\n",
       "      <td>75</td>\n",
       "      <td>0.0</td>\n",
       "      <td>3</td>\n",
       "      <td>10</td>\n",
       "      <td>13</td>\n",
       "    </tr>\n",
       "    <tr>\n",
       "      <th>4</th>\n",
       "      <td>2011-01-01 04:00:00</td>\n",
       "      <td>1</td>\n",
       "      <td>0</td>\n",
       "      <td>0</td>\n",
       "      <td>1</td>\n",
       "      <td>9.84</td>\n",
       "      <td>14.395</td>\n",
       "      <td>75</td>\n",
       "      <td>0.0</td>\n",
       "      <td>0</td>\n",
       "      <td>1</td>\n",
       "      <td>1</td>\n",
       "    </tr>\n",
       "  </tbody>\n",
       "</table>\n",
       "</div>"
      ],
      "text/plain": [
       "              datetime  season  holiday  workingday  weather  temp   atemp  \\\n",
       "0  2011-01-01 00:00:00       1        0           0        1  9.84  14.395   \n",
       "1  2011-01-01 01:00:00       1        0           0        1  9.02  13.635   \n",
       "2  2011-01-01 02:00:00       1        0           0        1  9.02  13.635   \n",
       "3  2011-01-01 03:00:00       1        0           0        1  9.84  14.395   \n",
       "4  2011-01-01 04:00:00       1        0           0        1  9.84  14.395   \n",
       "\n",
       "   humidity  windspeed  casual  registered  count  \n",
       "0        81        0.0       3          13     16  \n",
       "1        80        0.0       8          32     40  \n",
       "2        80        0.0       5          27     32  \n",
       "3        75        0.0       3          10     13  \n",
       "4        75        0.0       0           1      1  "
      ]
     },
     "execution_count": 614,
     "metadata": {},
     "output_type": "execute_result"
    }
   ],
   "source": [
    "df.head()"
   ]
  },
  {
   "cell_type": "code",
   "execution_count": 615,
   "metadata": {},
   "outputs": [
    {
     "name": "stderr",
     "output_type": "stream",
     "text": [
      "C:\\Users\\liaox\\Anaconda3\\lib\\site-packages\\ipykernel_launcher.py:3: FutureWarning: currently extract(expand=None) means expand=False (return Index/Series/DataFrame) but in a future version of pandas this will be changed to expand=True (return DataFrame)\n",
      "  This is separate from the ipykernel package so we can avoid doing imports until\n",
      "C:\\Users\\liaox\\Anaconda3\\lib\\site-packages\\ipykernel_launcher.py:6: FutureWarning: currently extract(expand=None) means expand=False (return Index/Series/DataFrame) but in a future version of pandas this will be changed to expand=True (return DataFrame)\n",
      "  \n",
      "C:\\Users\\liaox\\Anaconda3\\lib\\site-packages\\ipykernel_launcher.py:9: FutureWarning: currently extract(expand=None) means expand=False (return Index/Series/DataFrame) but in a future version of pandas this will be changed to expand=True (return DataFrame)\n",
      "  if __name__ == '__main__':\n",
      "C:\\Users\\liaox\\Anaconda3\\lib\\site-packages\\ipykernel_launcher.py:12: FutureWarning: currently extract(expand=None) means expand=False (return Index/Series/DataFrame) but in a future version of pandas this will be changed to expand=True (return DataFrame)\n",
      "  if sys.path[0] == '':\n"
     ]
    }
   ],
   "source": [
    "# year, month, day-of-the-week, time-of-the-day might be useful parameters for  prediction\n",
    "\n",
    "df['year'] = df['datetime'].str.extract(\"^(.{4})\")\n",
    "\n",
    "\n",
    "df['month'] = df['datetime'].str.extract(\"-(.{2})-\")\n",
    "\n",
    "\n",
    "df['day'] = df['datetime'].str.extract(\"(.{2}) \")\n",
    "\n",
    "\n",
    "df['time'] = df['datetime'].str.extract(\" (.{2})\")\n",
    "\n"
   ]
  },
  {
   "cell_type": "code",
   "execution_count": 616,
   "metadata": {},
   "outputs": [
    {
     "data": {
      "text/html": [
       "<div>\n",
       "<style>\n",
       "    .dataframe thead tr:only-child th {\n",
       "        text-align: right;\n",
       "    }\n",
       "\n",
       "    .dataframe thead th {\n",
       "        text-align: left;\n",
       "    }\n",
       "\n",
       "    .dataframe tbody tr th {\n",
       "        vertical-align: top;\n",
       "    }\n",
       "</style>\n",
       "<table border=\"1\" class=\"dataframe\">\n",
       "  <thead>\n",
       "    <tr style=\"text-align: right;\">\n",
       "      <th></th>\n",
       "      <th>datetime</th>\n",
       "      <th>season</th>\n",
       "      <th>holiday</th>\n",
       "      <th>workingday</th>\n",
       "      <th>weather</th>\n",
       "      <th>temp</th>\n",
       "      <th>atemp</th>\n",
       "      <th>humidity</th>\n",
       "      <th>windspeed</th>\n",
       "      <th>casual</th>\n",
       "      <th>registered</th>\n",
       "      <th>count</th>\n",
       "      <th>year</th>\n",
       "      <th>month</th>\n",
       "      <th>day</th>\n",
       "      <th>time</th>\n",
       "    </tr>\n",
       "  </thead>\n",
       "  <tbody>\n",
       "    <tr>\n",
       "      <th>0</th>\n",
       "      <td>2011-01-01 00:00:00</td>\n",
       "      <td>1</td>\n",
       "      <td>0</td>\n",
       "      <td>0</td>\n",
       "      <td>1</td>\n",
       "      <td>9.84</td>\n",
       "      <td>14.395</td>\n",
       "      <td>81</td>\n",
       "      <td>0.0</td>\n",
       "      <td>3</td>\n",
       "      <td>13</td>\n",
       "      <td>16</td>\n",
       "      <td>2011</td>\n",
       "      <td>01</td>\n",
       "      <td>01</td>\n",
       "      <td>00</td>\n",
       "    </tr>\n",
       "    <tr>\n",
       "      <th>1</th>\n",
       "      <td>2011-01-01 01:00:00</td>\n",
       "      <td>1</td>\n",
       "      <td>0</td>\n",
       "      <td>0</td>\n",
       "      <td>1</td>\n",
       "      <td>9.02</td>\n",
       "      <td>13.635</td>\n",
       "      <td>80</td>\n",
       "      <td>0.0</td>\n",
       "      <td>8</td>\n",
       "      <td>32</td>\n",
       "      <td>40</td>\n",
       "      <td>2011</td>\n",
       "      <td>01</td>\n",
       "      <td>01</td>\n",
       "      <td>01</td>\n",
       "    </tr>\n",
       "    <tr>\n",
       "      <th>2</th>\n",
       "      <td>2011-01-01 02:00:00</td>\n",
       "      <td>1</td>\n",
       "      <td>0</td>\n",
       "      <td>0</td>\n",
       "      <td>1</td>\n",
       "      <td>9.02</td>\n",
       "      <td>13.635</td>\n",
       "      <td>80</td>\n",
       "      <td>0.0</td>\n",
       "      <td>5</td>\n",
       "      <td>27</td>\n",
       "      <td>32</td>\n",
       "      <td>2011</td>\n",
       "      <td>01</td>\n",
       "      <td>01</td>\n",
       "      <td>02</td>\n",
       "    </tr>\n",
       "    <tr>\n",
       "      <th>3</th>\n",
       "      <td>2011-01-01 03:00:00</td>\n",
       "      <td>1</td>\n",
       "      <td>0</td>\n",
       "      <td>0</td>\n",
       "      <td>1</td>\n",
       "      <td>9.84</td>\n",
       "      <td>14.395</td>\n",
       "      <td>75</td>\n",
       "      <td>0.0</td>\n",
       "      <td>3</td>\n",
       "      <td>10</td>\n",
       "      <td>13</td>\n",
       "      <td>2011</td>\n",
       "      <td>01</td>\n",
       "      <td>01</td>\n",
       "      <td>03</td>\n",
       "    </tr>\n",
       "    <tr>\n",
       "      <th>4</th>\n",
       "      <td>2011-01-01 04:00:00</td>\n",
       "      <td>1</td>\n",
       "      <td>0</td>\n",
       "      <td>0</td>\n",
       "      <td>1</td>\n",
       "      <td>9.84</td>\n",
       "      <td>14.395</td>\n",
       "      <td>75</td>\n",
       "      <td>0.0</td>\n",
       "      <td>0</td>\n",
       "      <td>1</td>\n",
       "      <td>1</td>\n",
       "      <td>2011</td>\n",
       "      <td>01</td>\n",
       "      <td>01</td>\n",
       "      <td>04</td>\n",
       "    </tr>\n",
       "  </tbody>\n",
       "</table>\n",
       "</div>"
      ],
      "text/plain": [
       "              datetime  season  holiday  workingday  weather  temp   atemp  \\\n",
       "0  2011-01-01 00:00:00       1        0           0        1  9.84  14.395   \n",
       "1  2011-01-01 01:00:00       1        0           0        1  9.02  13.635   \n",
       "2  2011-01-01 02:00:00       1        0           0        1  9.02  13.635   \n",
       "3  2011-01-01 03:00:00       1        0           0        1  9.84  14.395   \n",
       "4  2011-01-01 04:00:00       1        0           0        1  9.84  14.395   \n",
       "\n",
       "   humidity  windspeed  casual  registered  count  year month day time  \n",
       "0        81        0.0       3          13     16  2011    01  01   00  \n",
       "1        80        0.0       8          32     40  2011    01  01   01  \n",
       "2        80        0.0       5          27     32  2011    01  01   02  \n",
       "3        75        0.0       3          10     13  2011    01  01   03  \n",
       "4        75        0.0       0           1      1  2011    01  01   04  "
      ]
     },
     "execution_count": 616,
     "metadata": {},
     "output_type": "execute_result"
    }
   ],
   "source": [
    "df.head()"
   ]
  },
  {
   "cell_type": "code",
   "execution_count": 617,
   "metadata": {
    "collapsed": true
   },
   "outputs": [],
   "source": [
    "df[['year', 'month', 'day', 'time']] = df[['year', 'month', 'day', 'time']].astype(int)"
   ]
  },
  {
   "cell_type": "code",
   "execution_count": 618,
   "metadata": {
    "collapsed": true
   },
   "outputs": [],
   "source": [
    "#drop the unique datatime column\n",
    "df = df.drop(labels=[\"datetime\"], axis=1)"
   ]
  },
  {
   "cell_type": "code",
   "execution_count": 619,
   "metadata": {
    "collapsed": true
   },
   "outputs": [],
   "source": [
    "df_original=df.copy()"
   ]
  },
  {
   "cell_type": "markdown",
   "metadata": {},
   "source": [
    "# Clustering"
   ]
  },
  {
   "cell_type": "code",
   "execution_count": 620,
   "metadata": {
    "collapsed": true
   },
   "outputs": [],
   "source": [
    "def set_colors(labels, colors='rgbykcmw'):\n",
    "    colored_labels = []\n",
    "    for label in labels:\n",
    "        if (label < 0) or (label > 6):\n",
    "          colored_labels.append(colors[7]) \n",
    "        else:\n",
    "          colored_labels.append(colors[label])\n",
    "    return colored_labels"
   ]
  },
  {
   "cell_type": "markdown",
   "metadata": {},
   "source": [
    "## K-Means Clusering\n",
    "\n",
    "I cluster the bike sharing demand dataset using K-means method and DBSCAN method"
   ]
  },
  {
   "cell_type": "code",
   "execution_count": 708,
   "metadata": {},
   "outputs": [
    {
     "data": {
      "image/png": "[encoded data removed]",
      "text/plain": [
       "<matplotlib.figure.Figure at 0x209e8681dd8>"
      ]
     },
     "metadata": {},
     "output_type": "display_data"
    }
   ],
   "source": [
    "\n",
    "# Fit a k-means estimator\n",
    "estimator = KMeans(n_clusters=8)\n",
    "X = df_original[[\"humidity\",\"temp\" ,\"casual\"]]\n",
    "estimator.fit(X)\n",
    "# Clusters are given in the labels_ attribute\n",
    "labels = estimator.labels_\n",
    "\n",
    "\n",
    "#colors = set_colors(labels)\n",
    "fig = plt.figure()\n",
    "ax =  Axes3D(fig)\n",
    "ax.scatter(df_original[\"humidity\"], df_original[\"temp\"], df_original[\"casual\"],c=labels.astype(np.float), edgecolor='k')\n",
    "ax.w_xaxis.set_ticklabels([])\n",
    "ax.w_yaxis.set_ticklabels([])\n",
    "ax.w_zaxis.set_ticklabels([])\n",
    "ax.set_xlabel('humidity')\n",
    "ax.set_ylabel('temp')\n",
    "ax.set_zlabel('casual')\n",
    "ax.set_title('8 clusters')\n",
    "ax.dist = 12\n",
    "#plt.scatter(df_original[\"humidity\"], df_original[\"casual\"], c=colors)\n",
    "#plt.xlabel(\"humidity\")\n",
    "#plt.ylabel(\"casual\")\n",
    "#plt.show()"
   ]
  },
  {
   "cell_type": "code",
   "execution_count": 709,
   "metadata": {},
   "outputs": [
    {
     "data": {
      "image/png": "[encoded data removed]",
      "text/plain": [
       "<matplotlib.figure.Figure at 0x209e8681fd0>"
      ]
     },
     "metadata": {},
     "output_type": "display_data"
    }
   ],
   "source": [
    "\n",
    "# Fit a k-means estimator\n",
    "estimator = KMeans(n_clusters=3)\n",
    "X = df_original[[\"humidity\",\"temp\" ,\"casual\"]]\n",
    "estimator.fit(X)\n",
    "# Clusters are given in the labels_ attribute\n",
    "labels = estimator.labels_\n",
    "\n",
    "\n",
    "#colors = set_colors(labels)\n",
    "fig = plt.figure()\n",
    "ax =  Axes3D(fig)\n",
    "ax.scatter(df_original[\"humidity\"], df_original[\"temp\"], df_original[\"casual\"],c=labels.astype(np.float), edgecolor='k')\n",
    "ax.w_xaxis.set_ticklabels([])\n",
    "ax.w_yaxis.set_ticklabels([])\n",
    "ax.w_zaxis.set_ticklabels([])\n",
    "ax.set_xlabel('humidity')\n",
    "ax.set_ylabel('temp')\n",
    "ax.set_zlabel('casual')\n",
    "ax.set_title('3 clusters')\n",
    "ax.dist = 12\n",
    "#plt.scatter(df_original[\"humidity\"], df_original[\"casual\"], c=colors)\n",
    "#plt.xlabel(\"humidity\")\n",
    "#plt.ylabel(\"casual\")\n",
    "#plt.show()"
   ]
  },
  {
   "cell_type": "markdown",
   "metadata": {},
   "source": [
    "## DBSCAN Clustering"
   ]
  },
  {
   "cell_type": "code",
   "execution_count": 719,
   "metadata": {},
   "outputs": [
    {
     "data": {
      "image/png": "[encoded data removed]",
      "text/plain": [
       "<matplotlib.figure.Figure at 0x209e9d5de80>"
      ]
     },
     "metadata": {},
     "output_type": "display_data"
    }
   ],
   "source": [
    "#### from sklearn.cluster import DBSCAN\n",
    "    #Fit a DBSCAN estimator\n",
    "estimator = DBSCAN(eps=5, min_samples=10)\n",
    "X = df_original[[\"humidity\", \"count\"]]\n",
    "estimator.fit(X)\n",
    "# Clusters are given in the labels_ attribute\n",
    "labels = estimator.labels_\n",
    "#print Counter(labels)\n",
    "\n",
    "colors = set_colors(labels)\n",
    "plt.scatter(df_original[\"humidity\"], df_original[\"count\"], c=colors)\n",
    "plt.xlabel(\"humidity\")\n",
    "plt.ylabel(\"count\")\n",
    "plt.show()"
   ]
  },
  {
   "cell_type": "code",
   "execution_count": 721,
   "metadata": {},
   "outputs": [
    {
     "data": {
      "image/png": "[encoded data removed]",
      "text/plain": [
       "<matplotlib.figure.Figure at 0x209e9d43d68>"
      ]
     },
     "metadata": {},
     "output_type": "display_data"
    }
   ],
   "source": [
    "from sklearn.cluster import DBSCAN\n",
    "    #Fit a DBSCAN estimator\n",
    "estimator = DBSCAN(eps=3, min_samples=14)\n",
    "X = df_original[[\"humidity\", \"temp\"]]\n",
    "estimator.fit(X)\n",
    "# Clusters are given in the labels_ attribute\n",
    "labels = estimator.labels_\n",
    "#print Counter(labels)\n",
    "\n",
    "colors = set_colors(labels)\n",
    "plt.scatter(df_original[\"humidity\"], df_original[\"temp\"], c=colors)\n",
    "plt.xlabel(\"humidity\")\n",
    "plt.ylabel(\"temp\")\n",
    "plt.show()"
   ]
  },
  {
   "cell_type": "markdown",
   "metadata": {},
   "source": [
    "# Dummy  Variable"
   ]
  },
  {
   "cell_type": "code",
   "execution_count": 624,
   "metadata": {},
   "outputs": [],
   "source": [
    "df= df.drop(labels=[\"casual\", \"registered\"], axis=1)"
   ]
  },
  {
   "cell_type": "code",
   "execution_count": 625,
   "metadata": {},
   "outputs": [
    {
     "data": {
      "text/plain": [
       "4    2734\n",
       "3    2733\n",
       "2    2733\n",
       "1    2686\n",
       "Name: season, dtype: int64"
      ]
     },
     "execution_count": 625,
     "metadata": {},
     "output_type": "execute_result"
    }
   ],
   "source": [
    "# convert ordinal categorical variables into multiple dummy variables\n",
    "# get dummy variables for season\n",
    "df['season'].value_counts() "
   ]
  },
  {
   "cell_type": "code",
   "execution_count": 626,
   "metadata": {
    "collapsed": true
   },
   "outputs": [],
   "source": [
    "df = df.join(pd.get_dummies(df.season, prefix='season'))\n"
   ]
  },
  {
   "cell_type": "code",
   "execution_count": 627,
   "metadata": {
    "collapsed": true
   },
   "outputs": [],
   "source": [
    "df = df.drop(labels=[\"season\"], axis=1)"
   ]
  },
  {
   "cell_type": "code",
   "execution_count": 628,
   "metadata": {
    "collapsed": true
   },
   "outputs": [],
   "source": [
    "df['weather'].value_counts() \n",
    "df = df.join(pd.get_dummies(df.weather, prefix='weather'))\n"
   ]
  },
  {
   "cell_type": "code",
   "execution_count": 629,
   "metadata": {
    "collapsed": true
   },
   "outputs": [],
   "source": [
    "df= df.drop(labels=[\"weather\"], axis=1)"
   ]
  },
  {
   "cell_type": "markdown",
   "metadata": {},
   "source": [
    "# Multi-colinearity Analysis\n",
    "We can see from the above heatmap, atemp variable and temp variable are highly correlated, the correlation coefficent is almost equal to 1. Therefroe, we need to delete one of the varibales to avoid Multi-colinearity Analysis."
   ]
  },
  {
   "cell_type": "code",
   "execution_count": 634,
   "metadata": {},
   "outputs": [
    {
     "data": {
      "text/plain": [
       "<matplotlib.axes._subplots.AxesSubplot at 0x209e601bbe0>"
      ]
     },
     "execution_count": 634,
     "metadata": {},
     "output_type": "execute_result"
    },
    {
     "data": {
      "image/png": "[encoded data removed]",
      "text/plain": [
       "<matplotlib.figure.Figure at 0x209d8b9bb70>"
      ]
     },
     "metadata": {},
     "output_type": "display_data"
    }
   ],
   "source": [
    "corrmat=df.corr()\n",
    "mask = np.array(corrmat)\n",
    "mask[np.tril_indices_from(mask)] = False\n",
    "fig,ax= plt.subplots()\n",
    "fig.set_size_inches(20,20)\n",
    "sn.heatmap(corrmat, mask=mask,vmax=.8, square=True,annot=True)"
   ]
  },
  {
   "cell_type": "code",
   "execution_count": 635,
   "metadata": {},
   "outputs": [
    {
     "ename": "ValueError",
     "evalue": "labels ['atemp'] not contained in axis",
     "output_type": "error",
     "traceback": [
      "\u001b[1;31m---------------------------------------------------------------------------\u001b[0m",
      "\u001b[1;31mValueError\u001b[0m                                Traceback (most recent call last)",
      "\u001b[1;32m<ipython-input-635-3344ece2e8b8>\u001b[0m in \u001b[0;36m<module>\u001b[1;34m()\u001b[0m\n\u001b[1;32m----> 1\u001b[1;33m \u001b[0mdf\u001b[0m\u001b[1;33m=\u001b[0m \u001b[0mdf\u001b[0m\u001b[1;33m.\u001b[0m\u001b[0mdrop\u001b[0m\u001b[1;33m(\u001b[0m\u001b[0mlabels\u001b[0m\u001b[1;33m=\u001b[0m\u001b[1;33m[\u001b[0m\u001b[1;34m\"atemp\"\u001b[0m\u001b[1;33m]\u001b[0m\u001b[1;33m,\u001b[0m \u001b[0maxis\u001b[0m\u001b[1;33m=\u001b[0m\u001b[1;36m1\u001b[0m\u001b[1;33m)\u001b[0m\u001b[1;33m\u001b[0m\u001b[0m\n\u001b[0m",
      "\u001b[1;32mC:\\Users\\liaox\\Anaconda3\\lib\\site-packages\\pandas\\core\\generic.py\u001b[0m in \u001b[0;36mdrop\u001b[1;34m(self, labels, axis, level, inplace, errors)\u001b[0m\n\u001b[0;32m   2159\u001b[0m                 \u001b[0mnew_axis\u001b[0m \u001b[1;33m=\u001b[0m \u001b[0maxis\u001b[0m\u001b[1;33m.\u001b[0m\u001b[0mdrop\u001b[0m\u001b[1;33m(\u001b[0m\u001b[0mlabels\u001b[0m\u001b[1;33m,\u001b[0m \u001b[0mlevel\u001b[0m\u001b[1;33m=\u001b[0m\u001b[0mlevel\u001b[0m\u001b[1;33m,\u001b[0m \u001b[0merrors\u001b[0m\u001b[1;33m=\u001b[0m\u001b[0merrors\u001b[0m\u001b[1;33m)\u001b[0m\u001b[1;33m\u001b[0m\u001b[0m\n\u001b[0;32m   2160\u001b[0m             \u001b[1;32melse\u001b[0m\u001b[1;33m:\u001b[0m\u001b[1;33m\u001b[0m\u001b[0m\n\u001b[1;32m-> 2161\u001b[1;33m                 \u001b[0mnew_axis\u001b[0m \u001b[1;33m=\u001b[0m \u001b[0maxis\u001b[0m\u001b[1;33m.\u001b[0m\u001b[0mdrop\u001b[0m\u001b[1;33m(\u001b[0m\u001b[0mlabels\u001b[0m\u001b[1;33m,\u001b[0m \u001b[0merrors\u001b[0m\u001b[1;33m=\u001b[0m\u001b[0merrors\u001b[0m\u001b[1;33m)\u001b[0m\u001b[1;33m\u001b[0m\u001b[0m\n\u001b[0m\u001b[0;32m   2162\u001b[0m             \u001b[0mdropped\u001b[0m \u001b[1;33m=\u001b[0m \u001b[0mself\u001b[0m\u001b[1;33m.\u001b[0m\u001b[0mreindex\u001b[0m\u001b[1;33m(\u001b[0m\u001b[1;33m**\u001b[0m\u001b[1;33m{\u001b[0m\u001b[0maxis_name\u001b[0m\u001b[1;33m:\u001b[0m \u001b[0mnew_axis\u001b[0m\u001b[1;33m}\u001b[0m\u001b[1;33m)\u001b[0m\u001b[1;33m\u001b[0m\u001b[0m\n\u001b[0;32m   2163\u001b[0m             \u001b[1;32mtry\u001b[0m\u001b[1;33m:\u001b[0m\u001b[1;33m\u001b[0m\u001b[0m\n",
      "\u001b[1;32mC:\\Users\\liaox\\Anaconda3\\lib\\site-packages\\pandas\\core\\indexes\\base.py\u001b[0m in \u001b[0;36mdrop\u001b[1;34m(self, labels, errors)\u001b[0m\n\u001b[0;32m   3622\u001b[0m             \u001b[1;32mif\u001b[0m \u001b[0merrors\u001b[0m \u001b[1;33m!=\u001b[0m \u001b[1;34m'ignore'\u001b[0m\u001b[1;33m:\u001b[0m\u001b[1;33m\u001b[0m\u001b[0m\n\u001b[0;32m   3623\u001b[0m                 raise ValueError('labels %s not contained in axis' %\n\u001b[1;32m-> 3624\u001b[1;33m                                  labels[mask])\n\u001b[0m\u001b[0;32m   3625\u001b[0m             \u001b[0mindexer\u001b[0m \u001b[1;33m=\u001b[0m \u001b[0mindexer\u001b[0m\u001b[1;33m[\u001b[0m\u001b[1;33m~\u001b[0m\u001b[0mmask\u001b[0m\u001b[1;33m]\u001b[0m\u001b[1;33m\u001b[0m\u001b[0m\n\u001b[0;32m   3626\u001b[0m         \u001b[1;32mreturn\u001b[0m \u001b[0mself\u001b[0m\u001b[1;33m.\u001b[0m\u001b[0mdelete\u001b[0m\u001b[1;33m(\u001b[0m\u001b[0mindexer\u001b[0m\u001b[1;33m)\u001b[0m\u001b[1;33m\u001b[0m\u001b[0m\n",
      "\u001b[1;31mValueError\u001b[0m: labels ['atemp'] not contained in axis"
     ]
    }
   ],
   "source": [
    "df= df.drop(labels=[\"atemp\"], axis=1)"
   ]
  },
  {
   "cell_type": "code",
   "execution_count": 636,
   "metadata": {
    "collapsed": true
   },
   "outputs": [],
   "source": [
    "target = df['count'].values\n",
    "predictors = df.drop(labels=[\"count\"], axis=1)\n"
   ]
  },
  {
   "cell_type": "code",
   "execution_count": 637,
   "metadata": {},
   "outputs": [
    {
     "data": {
      "text/plain": [
       "(10886, 17)"
      ]
     },
     "execution_count": 637,
     "metadata": {},
     "output_type": "execute_result"
    }
   ],
   "source": [
    "predictors.shape\n",
    "#the datset we are going to use as predictor has 17 rows and 10886 colomns\n",
    "#target is the response array"
   ]
  },
  {
   "cell_type": "markdown",
   "metadata": {},
   "source": [
    "# Linear regression"
   ]
  },
  {
   "cell_type": "markdown",
   "metadata": {},
   "source": [
    "## Dataset split"
   ]
  },
  {
   "cell_type": "code",
   "execution_count": 638,
   "metadata": {
    "collapsed": true
   },
   "outputs": [],
   "source": [
    "#split the df dataset into train and test dataset\n",
    "\n",
    "predictors=sm.add_constant(predictors)\n",
    "x_train,x_test,y_train,y_test=train_test_split(predictors,target,test_size=0.2,random_state=1)\n"
   ]
  },
  {
   "cell_type": "markdown",
   "metadata": {},
   "source": [
    "## Backward Elimination \n",
    "\n",
    "Implement backward elimination to select significant predictors of the linear regression model\n",
    "We first include all the predictors into the model and fit a full logistic regression, then we elmiminate the predictors step by step accroding to the p-value. If the p-value is larger than the significance level (0.05),we delete the variable form our model. Finally, we get a set of predictors that are  significant:   'const','temp','humidity','windspeed','year','month','time','season_1','season_2','season_3','season_4','weather_1','weather_2','weather_3','weather_4'.\n",
    "The RMSE of the simple linear regression we fit is 143.90089223868023"
   ]
  },
  {
   "cell_type": "code",
   "execution_count": 639,
   "metadata": {},
   "outputs": [
    {
     "data": {
      "text/html": [
       "<table class=\"simpletable\">\n",
       "<caption>OLS Regression Results</caption>\n",
       "<tr>\n",
       "  <th>Dep. Variable:</th>            <td>y</td>        <th>  R-squared:         </th> <td>   0.398</td> \n",
       "</tr>\n",
       "<tr>\n",
       "  <th>Model:</th>                   <td>OLS</td>       <th>  Adj. R-squared:    </th> <td>   0.397</td> \n",
       "</tr>\n",
       "<tr>\n",
       "  <th>Method:</th>             <td>Least Squares</td>  <th>  F-statistic:       </th> <td>   382.6</td> \n",
       "</tr>\n",
       "<tr>\n",
       "  <th>Date:</th>             <td>Fri, 16 Feb 2018</td> <th>  Prob (F-statistic):</th>  <td>  0.00</td>  \n",
       "</tr>\n",
       "<tr>\n",
       "  <th>Time:</th>                 <td>20:26:27</td>     <th>  Log-Likelihood:    </th> <td> -55379.</td> \n",
       "</tr>\n",
       "<tr>\n",
       "  <th>No. Observations:</th>      <td>  8708</td>      <th>  AIC:               </th> <td>1.108e+05</td>\n",
       "</tr>\n",
       "<tr>\n",
       "  <th>Df Residuals:</th>          <td>  8692</td>      <th>  BIC:               </th> <td>1.109e+05</td>\n",
       "</tr>\n",
       "<tr>\n",
       "  <th>Df Model:</th>              <td>    15</td>      <th>                     </th>     <td> </td>    \n",
       "</tr>\n",
       "<tr>\n",
       "  <th>Covariance Type:</th>      <td>nonrobust</td>    <th>                     </th>     <td> </td>    \n",
       "</tr>\n",
       "</table>\n",
       "<table class=\"simpletable\">\n",
       "<tr>\n",
       "       <td></td>         <th>coef</th>     <th>std err</th>      <th>t</th>      <th>P>|t|</th>  <th>[0.025</th>    <th>0.975]</th>  \n",
       "</tr>\n",
       "<tr>\n",
       "  <th>const</th>      <td> -1.05e+05</td> <td> 4070.571</td> <td>  -25.798</td> <td> 0.000</td> <td>-1.13e+05</td> <td> -9.7e+04</td>\n",
       "</tr>\n",
       "<tr>\n",
       "  <th>holiday</th>    <td>  -14.9761</td> <td>    9.470</td> <td>   -1.581</td> <td> 0.114</td> <td>  -33.539</td> <td>    3.587</td>\n",
       "</tr>\n",
       "<tr>\n",
       "  <th>workingday</th> <td>   -2.3076</td> <td>    3.326</td> <td>   -0.694</td> <td> 0.488</td> <td>   -8.828</td> <td>    4.213</td>\n",
       "</tr>\n",
       "<tr>\n",
       "  <th>temp</th>       <td>    8.2198</td> <td>    0.333</td> <td>   24.667</td> <td> 0.000</td> <td>    7.567</td> <td>    8.873</td>\n",
       "</tr>\n",
       "<tr>\n",
       "  <th>humidity</th>   <td>   -1.9473</td> <td>    0.098</td> <td>  -19.858</td> <td> 0.000</td> <td>   -2.139</td> <td>   -1.755</td>\n",
       "</tr>\n",
       "<tr>\n",
       "  <th>windspeed</th>  <td>    0.3998</td> <td>    0.197</td> <td>    2.031</td> <td> 0.042</td> <td>    0.014</td> <td>    0.786</td>\n",
       "</tr>\n",
       "<tr>\n",
       "  <th>year</th>       <td>   78.3056</td> <td>    3.035</td> <td>   25.800</td> <td> 0.000</td> <td>   72.356</td> <td>   84.255</td>\n",
       "</tr>\n",
       "<tr>\n",
       "  <th>month</th>      <td>    9.9942</td> <td>    1.863</td> <td>    5.365</td> <td> 0.000</td> <td>    6.343</td> <td>   13.646</td>\n",
       "</tr>\n",
       "<tr>\n",
       "  <th>day</th>        <td>    0.3176</td> <td>    0.274</td> <td>    1.160</td> <td> 0.246</td> <td>   -0.219</td> <td>    0.854</td>\n",
       "</tr>\n",
       "<tr>\n",
       "  <th>time</th>       <td>    7.7700</td> <td>    0.233</td> <td>   33.352</td> <td> 0.000</td> <td>    7.313</td> <td>    8.227</td>\n",
       "</tr>\n",
       "<tr>\n",
       "  <th>season_1</th>   <td>-2.623e+04</td> <td> 1017.957</td> <td>  -25.770</td> <td> 0.000</td> <td>-2.82e+04</td> <td>-2.42e+04</td>\n",
       "</tr>\n",
       "<tr>\n",
       "  <th>season_2</th>   <td>-2.624e+04</td> <td> 1017.558</td> <td>  -25.786</td> <td> 0.000</td> <td>-2.82e+04</td> <td>-2.42e+04</td>\n",
       "</tr>\n",
       "<tr>\n",
       "  <th>season_3</th>   <td>-2.629e+04</td> <td> 1017.352</td> <td>  -25.840</td> <td> 0.000</td> <td>-2.83e+04</td> <td>-2.43e+04</td>\n",
       "</tr>\n",
       "<tr>\n",
       "  <th>season_4</th>   <td>-2.625e+04</td> <td> 1017.801</td> <td>  -25.792</td> <td> 0.000</td> <td>-2.82e+04</td> <td>-2.43e+04</td>\n",
       "</tr>\n",
       "<tr>\n",
       "  <th>weather_1</th>  <td>-2.626e+04</td> <td> 1017.496</td> <td>  -25.812</td> <td> 0.000</td> <td>-2.83e+04</td> <td>-2.43e+04</td>\n",
       "</tr>\n",
       "<tr>\n",
       "  <th>weather_2</th>  <td>-2.626e+04</td> <td> 1017.654</td> <td>  -25.802</td> <td> 0.000</td> <td>-2.83e+04</td> <td>-2.43e+04</td>\n",
       "</tr>\n",
       "<tr>\n",
       "  <th>weather_3</th>  <td>-2.629e+04</td> <td> 1017.612</td> <td>  -25.839</td> <td> 0.000</td> <td>-2.83e+04</td> <td>-2.43e+04</td>\n",
       "</tr>\n",
       "<tr>\n",
       "  <th>weather_4</th>  <td> -2.62e+04</td> <td> 1025.030</td> <td>  -25.557</td> <td> 0.000</td> <td>-2.82e+04</td> <td>-2.42e+04</td>\n",
       "</tr>\n",
       "</table>\n",
       "<table class=\"simpletable\">\n",
       "<tr>\n",
       "  <th>Omnibus:</th>       <td>1726.922</td> <th>  Durbin-Watson:     </th> <td>   2.025</td>\n",
       "</tr>\n",
       "<tr>\n",
       "  <th>Prob(Omnibus):</th>  <td> 0.000</td>  <th>  Jarque-Bera (JB):  </th> <td>3359.149</td>\n",
       "</tr>\n",
       "<tr>\n",
       "  <th>Skew:</th>           <td> 1.205</td>  <th>  Prob(JB):          </th> <td>    0.00</td>\n",
       "</tr>\n",
       "<tr>\n",
       "  <th>Kurtosis:</th>       <td> 4.857</td>  <th>  Cond. No.          </th> <td>1.66e+19</td>\n",
       "</tr>\n",
       "</table>"
      ],
      "text/plain": [
       "<class 'statsmodels.iolib.summary.Summary'>\n",
       "\"\"\"\n",
       "                            OLS Regression Results                            \n",
       "==============================================================================\n",
       "Dep. Variable:                      y   R-squared:                       0.398\n",
       "Model:                            OLS   Adj. R-squared:                  0.397\n",
       "Method:                 Least Squares   F-statistic:                     382.6\n",
       "Date:                Fri, 16 Feb 2018   Prob (F-statistic):               0.00\n",
       "Time:                        20:26:27   Log-Likelihood:                -55379.\n",
       "No. Observations:                8708   AIC:                         1.108e+05\n",
       "Df Residuals:                    8692   BIC:                         1.109e+05\n",
       "Df Model:                          15                                         \n",
       "Covariance Type:            nonrobust                                         \n",
       "==============================================================================\n",
       "                 coef    std err          t      P>|t|      [0.025      0.975]\n",
       "------------------------------------------------------------------------------\n",
       "const       -1.05e+05   4070.571    -25.798      0.000   -1.13e+05    -9.7e+04\n",
       "holiday      -14.9761      9.470     -1.581      0.114     -33.539       3.587\n",
       "workingday    -2.3076      3.326     -0.694      0.488      -8.828       4.213\n",
       "temp           8.2198      0.333     24.667      0.000       7.567       8.873\n",
       "humidity      -1.9473      0.098    -19.858      0.000      -2.139      -1.755\n",
       "windspeed      0.3998      0.197      2.031      0.042       0.014       0.786\n",
       "year          78.3056      3.035     25.800      0.000      72.356      84.255\n",
       "month          9.9942      1.863      5.365      0.000       6.343      13.646\n",
       "day            0.3176      0.274      1.160      0.246      -0.219       0.854\n",
       "time           7.7700      0.233     33.352      0.000       7.313       8.227\n",
       "season_1   -2.623e+04   1017.957    -25.770      0.000   -2.82e+04   -2.42e+04\n",
       "season_2   -2.624e+04   1017.558    -25.786      0.000   -2.82e+04   -2.42e+04\n",
       "season_3   -2.629e+04   1017.352    -25.840      0.000   -2.83e+04   -2.43e+04\n",
       "season_4   -2.625e+04   1017.801    -25.792      0.000   -2.82e+04   -2.43e+04\n",
       "weather_1  -2.626e+04   1017.496    -25.812      0.000   -2.83e+04   -2.43e+04\n",
       "weather_2  -2.626e+04   1017.654    -25.802      0.000   -2.83e+04   -2.43e+04\n",
       "weather_3  -2.629e+04   1017.612    -25.839      0.000   -2.83e+04   -2.43e+04\n",
       "weather_4   -2.62e+04   1025.030    -25.557      0.000   -2.82e+04   -2.42e+04\n",
       "==============================================================================\n",
       "Omnibus:                     1726.922   Durbin-Watson:                   2.025\n",
       "Prob(Omnibus):                  0.000   Jarque-Bera (JB):             3359.149\n",
       "Skew:                           1.205   Prob(JB):                         0.00\n",
       "Kurtosis:                       4.857   Cond. No.                     1.66e+19\n",
       "==============================================================================\n",
       "\n",
       "Warnings:\n",
       "[1] Standard Errors assume that the covariance matrix of the errors is correctly specified.\n",
       "[2] The smallest eigenvalue is 1.28e-28. This might indicate that there are\n",
       "strong multicollinearity problems or that the design matrix is singular.\n",
       "\"\"\""
      ]
     },
     "execution_count": 639,
     "metadata": {},
     "output_type": "execute_result"
    }
   ],
   "source": [
    "x_train_opt=x_train[['const','holiday','workingday','temp','humidity','windspeed','year', 'month','day','time','season_1','season_2','season_3','season_4','weather_1','weather_2','weather_3','weather_4']]\n",
    "#backward elimination: select a significance level to stay in the model (pvalue<=0.05)\n",
    "regressor=sm.OLS(endog=y_train,exog=x_train_opt).fit()\n",
    "#fit the full model with all possible predictors\n",
    "regressor.summary()\n"
   ]
  },
  {
   "cell_type": "code",
   "execution_count": 640,
   "metadata": {},
   "outputs": [
    {
     "data": {
      "text/html": [
       "<table class=\"simpletable\">\n",
       "<caption>OLS Regression Results</caption>\n",
       "<tr>\n",
       "  <th>Dep. Variable:</th>            <td>y</td>        <th>  R-squared:         </th> <td>   0.398</td> \n",
       "</tr>\n",
       "<tr>\n",
       "  <th>Model:</th>                   <td>OLS</td>       <th>  Adj. R-squared:    </th> <td>   0.397</td> \n",
       "</tr>\n",
       "<tr>\n",
       "  <th>Method:</th>             <td>Least Squares</td>  <th>  F-statistic:       </th> <td>   409.9</td> \n",
       "</tr>\n",
       "<tr>\n",
       "  <th>Date:</th>             <td>Fri, 16 Feb 2018</td> <th>  Prob (F-statistic):</th>  <td>  0.00</td>  \n",
       "</tr>\n",
       "<tr>\n",
       "  <th>Time:</th>                 <td>20:26:29</td>     <th>  Log-Likelihood:    </th> <td> -55380.</td> \n",
       "</tr>\n",
       "<tr>\n",
       "  <th>No. Observations:</th>      <td>  8708</td>      <th>  AIC:               </th> <td>1.108e+05</td>\n",
       "</tr>\n",
       "<tr>\n",
       "  <th>Df Residuals:</th>          <td>  8693</td>      <th>  BIC:               </th> <td>1.109e+05</td>\n",
       "</tr>\n",
       "<tr>\n",
       "  <th>Df Model:</th>              <td>    14</td>      <th>                     </th>     <td> </td>    \n",
       "</tr>\n",
       "<tr>\n",
       "  <th>Covariance Type:</th>      <td>nonrobust</td>    <th>                     </th>     <td> </td>    \n",
       "</tr>\n",
       "</table>\n",
       "<table class=\"simpletable\">\n",
       "<tr>\n",
       "      <td></td>         <th>coef</th>     <th>std err</th>      <th>t</th>      <th>P>|t|</th>  <th>[0.025</th>    <th>0.975]</th>  \n",
       "</tr>\n",
       "<tr>\n",
       "  <th>const</th>     <td> -1.05e+05</td> <td> 4070.391</td> <td>  -25.802</td> <td> 0.000</td> <td>-1.13e+05</td> <td> -9.7e+04</td>\n",
       "</tr>\n",
       "<tr>\n",
       "  <th>holiday</th>   <td>  -13.3685</td> <td>    9.182</td> <td>   -1.456</td> <td> 0.145</td> <td>  -31.367</td> <td>    4.630</td>\n",
       "</tr>\n",
       "<tr>\n",
       "  <th>temp</th>      <td>    8.2098</td> <td>    0.333</td> <td>   24.661</td> <td> 0.000</td> <td>    7.557</td> <td>    8.862</td>\n",
       "</tr>\n",
       "<tr>\n",
       "  <th>humidity</th>  <td>   -1.9456</td> <td>    0.098</td> <td>  -19.848</td> <td> 0.000</td> <td>   -2.138</td> <td>   -1.753</td>\n",
       "</tr>\n",
       "<tr>\n",
       "  <th>windspeed</th> <td>    0.3985</td> <td>    0.197</td> <td>    2.024</td> <td> 0.043</td> <td>    0.013</td> <td>    0.784</td>\n",
       "</tr>\n",
       "<tr>\n",
       "  <th>year</th>      <td>   78.3160</td> <td>    3.035</td> <td>   25.804</td> <td> 0.000</td> <td>   72.367</td> <td>   84.265</td>\n",
       "</tr>\n",
       "<tr>\n",
       "  <th>month</th>     <td>    9.9996</td> <td>    1.863</td> <td>    5.368</td> <td> 0.000</td> <td>    6.348</td> <td>   13.651</td>\n",
       "</tr>\n",
       "<tr>\n",
       "  <th>day</th>       <td>    0.3148</td> <td>    0.274</td> <td>    1.150</td> <td> 0.250</td> <td>   -0.222</td> <td>    0.851</td>\n",
       "</tr>\n",
       "<tr>\n",
       "  <th>time</th>      <td>    7.7731</td> <td>    0.233</td> <td>   33.373</td> <td> 0.000</td> <td>    7.317</td> <td>    8.230</td>\n",
       "</tr>\n",
       "<tr>\n",
       "  <th>season_1</th>  <td>-2.624e+04</td> <td> 1017.911</td> <td>  -25.774</td> <td> 0.000</td> <td>-2.82e+04</td> <td>-2.42e+04</td>\n",
       "</tr>\n",
       "<tr>\n",
       "  <th>season_2</th>  <td>-2.624e+04</td> <td> 1017.513</td> <td>  -25.791</td> <td> 0.000</td> <td>-2.82e+04</td> <td>-2.42e+04</td>\n",
       "</tr>\n",
       "<tr>\n",
       "  <th>season_3</th>  <td>-2.629e+04</td> <td> 1017.308</td> <td>  -25.844</td> <td> 0.000</td> <td>-2.83e+04</td> <td>-2.43e+04</td>\n",
       "</tr>\n",
       "<tr>\n",
       "  <th>season_4</th>  <td>-2.626e+04</td> <td> 1017.756</td> <td>  -25.797</td> <td> 0.000</td> <td>-2.83e+04</td> <td>-2.43e+04</td>\n",
       "</tr>\n",
       "<tr>\n",
       "  <th>weather_1</th> <td>-2.627e+04</td> <td> 1017.453</td> <td>  -25.817</td> <td> 0.000</td> <td>-2.83e+04</td> <td>-2.43e+04</td>\n",
       "</tr>\n",
       "<tr>\n",
       "  <th>weather_2</th> <td>-2.626e+04</td> <td> 1017.611</td> <td>  -25.806</td> <td> 0.000</td> <td>-2.83e+04</td> <td>-2.43e+04</td>\n",
       "</tr>\n",
       "<tr>\n",
       "  <th>weather_3</th> <td> -2.63e+04</td> <td> 1017.567</td> <td>  -25.844</td> <td> 0.000</td> <td>-2.83e+04</td> <td>-2.43e+04</td>\n",
       "</tr>\n",
       "<tr>\n",
       "  <th>weather_4</th> <td> -2.62e+04</td> <td> 1024.980</td> <td>  -25.562</td> <td> 0.000</td> <td>-2.82e+04</td> <td>-2.42e+04</td>\n",
       "</tr>\n",
       "</table>\n",
       "<table class=\"simpletable\">\n",
       "<tr>\n",
       "  <th>Omnibus:</th>       <td>1717.178</td> <th>  Durbin-Watson:     </th> <td>   2.025</td>\n",
       "</tr>\n",
       "<tr>\n",
       "  <th>Prob(Omnibus):</th>  <td> 0.000</td>  <th>  Jarque-Bera (JB):  </th> <td>3323.565</td>\n",
       "</tr>\n",
       "<tr>\n",
       "  <th>Skew:</th>           <td> 1.202</td>  <th>  Prob(JB):          </th> <td>    0.00</td>\n",
       "</tr>\n",
       "<tr>\n",
       "  <th>Kurtosis:</th>       <td> 4.840</td>  <th>  Cond. No.          </th> <td>1.86e+19</td>\n",
       "</tr>\n",
       "</table>"
      ],
      "text/plain": [
       "<class 'statsmodels.iolib.summary.Summary'>\n",
       "\"\"\"\n",
       "                            OLS Regression Results                            \n",
       "==============================================================================\n",
       "Dep. Variable:                      y   R-squared:                       0.398\n",
       "Model:                            OLS   Adj. R-squared:                  0.397\n",
       "Method:                 Least Squares   F-statistic:                     409.9\n",
       "Date:                Fri, 16 Feb 2018   Prob (F-statistic):               0.00\n",
       "Time:                        20:26:29   Log-Likelihood:                -55380.\n",
       "No. Observations:                8708   AIC:                         1.108e+05\n",
       "Df Residuals:                    8693   BIC:                         1.109e+05\n",
       "Df Model:                          14                                         \n",
       "Covariance Type:            nonrobust                                         \n",
       "==============================================================================\n",
       "                 coef    std err          t      P>|t|      [0.025      0.975]\n",
       "------------------------------------------------------------------------------\n",
       "const       -1.05e+05   4070.391    -25.802      0.000   -1.13e+05    -9.7e+04\n",
       "holiday      -13.3685      9.182     -1.456      0.145     -31.367       4.630\n",
       "temp           8.2098      0.333     24.661      0.000       7.557       8.862\n",
       "humidity      -1.9456      0.098    -19.848      0.000      -2.138      -1.753\n",
       "windspeed      0.3985      0.197      2.024      0.043       0.013       0.784\n",
       "year          78.3160      3.035     25.804      0.000      72.367      84.265\n",
       "month          9.9996      1.863      5.368      0.000       6.348      13.651\n",
       "day            0.3148      0.274      1.150      0.250      -0.222       0.851\n",
       "time           7.7731      0.233     33.373      0.000       7.317       8.230\n",
       "season_1   -2.624e+04   1017.911    -25.774      0.000   -2.82e+04   -2.42e+04\n",
       "season_2   -2.624e+04   1017.513    -25.791      0.000   -2.82e+04   -2.42e+04\n",
       "season_3   -2.629e+04   1017.308    -25.844      0.000   -2.83e+04   -2.43e+04\n",
       "season_4   -2.626e+04   1017.756    -25.797      0.000   -2.83e+04   -2.43e+04\n",
       "weather_1  -2.627e+04   1017.453    -25.817      0.000   -2.83e+04   -2.43e+04\n",
       "weather_2  -2.626e+04   1017.611    -25.806      0.000   -2.83e+04   -2.43e+04\n",
       "weather_3   -2.63e+04   1017.567    -25.844      0.000   -2.83e+04   -2.43e+04\n",
       "weather_4   -2.62e+04   1024.980    -25.562      0.000   -2.82e+04   -2.42e+04\n",
       "==============================================================================\n",
       "Omnibus:                     1717.178   Durbin-Watson:                   2.025\n",
       "Prob(Omnibus):                  0.000   Jarque-Bera (JB):             3323.565\n",
       "Skew:                           1.202   Prob(JB):                         0.00\n",
       "Kurtosis:                       4.840   Cond. No.                     1.86e+19\n",
       "==============================================================================\n",
       "\n",
       "Warnings:\n",
       "[1] Standard Errors assume that the covariance matrix of the errors is correctly specified.\n",
       "[2] The smallest eigenvalue is 1.02e-28. This might indicate that there are\n",
       "strong multicollinearity problems or that the design matrix is singular.\n",
       "\"\"\""
      ]
     },
     "execution_count": 640,
     "metadata": {},
     "output_type": "execute_result"
    }
   ],
   "source": [
    "x_train_opt=x_train[['const','holiday','temp','humidity','windspeed','year', 'month','day','time','season_1','season_2','season_3',\n",
    "                'season_4','weather_1','weather_2','weather_3','weather_4']]\n",
    "\n",
    "#backward elimination: select a significance level to stay in the model (pvalue<=0.05)\n",
    "regressor=sm.OLS(endog=y_train,exog=x_train_opt).fit()\n",
    "#fit the full model with all possible predictors\n",
    "\n",
    "regressor.summary()"
   ]
  },
  {
   "cell_type": "code",
   "execution_count": 641,
   "metadata": {},
   "outputs": [
    {
     "data": {
      "text/html": [
       "<table class=\"simpletable\">\n",
       "<caption>OLS Regression Results</caption>\n",
       "<tr>\n",
       "  <th>Dep. Variable:</th>            <td>y</td>        <th>  R-squared:         </th> <td>   0.398</td> \n",
       "</tr>\n",
       "<tr>\n",
       "  <th>Model:</th>                   <td>OLS</td>       <th>  Adj. R-squared:    </th> <td>   0.397</td> \n",
       "</tr>\n",
       "<tr>\n",
       "  <th>Method:</th>             <td>Least Squares</td>  <th>  F-statistic:       </th> <td>   441.3</td> \n",
       "</tr>\n",
       "<tr>\n",
       "  <th>Date:</th>             <td>Fri, 16 Feb 2018</td> <th>  Prob (F-statistic):</th>  <td>  0.00</td>  \n",
       "</tr>\n",
       "<tr>\n",
       "  <th>Time:</th>                 <td>20:26:31</td>     <th>  Log-Likelihood:    </th> <td> -55380.</td> \n",
       "</tr>\n",
       "<tr>\n",
       "  <th>No. Observations:</th>      <td>  8708</td>      <th>  AIC:               </th> <td>1.108e+05</td>\n",
       "</tr>\n",
       "<tr>\n",
       "  <th>Df Residuals:</th>          <td>  8694</td>      <th>  BIC:               </th> <td>1.109e+05</td>\n",
       "</tr>\n",
       "<tr>\n",
       "  <th>Df Model:</th>              <td>    13</td>      <th>                     </th>     <td> </td>    \n",
       "</tr>\n",
       "<tr>\n",
       "  <th>Covariance Type:</th>      <td>nonrobust</td>    <th>                     </th>     <td> </td>    \n",
       "</tr>\n",
       "</table>\n",
       "<table class=\"simpletable\">\n",
       "<tr>\n",
       "      <td></td>         <th>coef</th>     <th>std err</th>      <th>t</th>      <th>P>|t|</th>  <th>[0.025</th>    <th>0.975]</th>  \n",
       "</tr>\n",
       "<tr>\n",
       "  <th>const</th>     <td> -1.05e+05</td> <td> 4070.451</td> <td>  -25.805</td> <td> 0.000</td> <td>-1.13e+05</td> <td>-9.71e+04</td>\n",
       "</tr>\n",
       "<tr>\n",
       "  <th>holiday</th>   <td>  -13.4749</td> <td>    9.181</td> <td>   -1.468</td> <td> 0.142</td> <td>  -31.472</td> <td>    4.523</td>\n",
       "</tr>\n",
       "<tr>\n",
       "  <th>temp</th>      <td>    8.2176</td> <td>    0.333</td> <td>   24.689</td> <td> 0.000</td> <td>    7.565</td> <td>    8.870</td>\n",
       "</tr>\n",
       "<tr>\n",
       "  <th>humidity</th>  <td>   -1.9449</td> <td>    0.098</td> <td>  -19.841</td> <td> 0.000</td> <td>   -2.137</td> <td>   -1.753</td>\n",
       "</tr>\n",
       "<tr>\n",
       "  <th>windspeed</th> <td>    0.4091</td> <td>    0.197</td> <td>    2.080</td> <td> 0.038</td> <td>    0.024</td> <td>    0.795</td>\n",
       "</tr>\n",
       "<tr>\n",
       "  <th>year</th>      <td>   78.3271</td> <td>    3.035</td> <td>   25.807</td> <td> 0.000</td> <td>   72.378</td> <td>   84.277</td>\n",
       "</tr>\n",
       "<tr>\n",
       "  <th>month</th>     <td>   10.0021</td> <td>    1.863</td> <td>    5.370</td> <td> 0.000</td> <td>    6.351</td> <td>   13.654</td>\n",
       "</tr>\n",
       "<tr>\n",
       "  <th>time</th>      <td>    7.7705</td> <td>    0.233</td> <td>   33.363</td> <td> 0.000</td> <td>    7.314</td> <td>    8.227</td>\n",
       "</tr>\n",
       "<tr>\n",
       "  <th>season_1</th>  <td>-2.624e+04</td> <td> 1017.926</td> <td>  -25.777</td> <td> 0.000</td> <td>-2.82e+04</td> <td>-2.42e+04</td>\n",
       "</tr>\n",
       "<tr>\n",
       "  <th>season_2</th>  <td>-2.625e+04</td> <td> 1017.528</td> <td>  -25.794</td> <td> 0.000</td> <td>-2.82e+04</td> <td>-2.43e+04</td>\n",
       "</tr>\n",
       "<tr>\n",
       "  <th>season_3</th>  <td> -2.63e+04</td> <td> 1017.323</td> <td>  -25.847</td> <td> 0.000</td> <td>-2.83e+04</td> <td>-2.43e+04</td>\n",
       "</tr>\n",
       "<tr>\n",
       "  <th>season_4</th>  <td>-2.626e+04</td> <td> 1017.771</td> <td>  -25.800</td> <td> 0.000</td> <td>-2.83e+04</td> <td>-2.43e+04</td>\n",
       "</tr>\n",
       "<tr>\n",
       "  <th>weather_1</th> <td>-2.627e+04</td> <td> 1017.468</td> <td>  -25.819</td> <td> 0.000</td> <td>-2.83e+04</td> <td>-2.43e+04</td>\n",
       "</tr>\n",
       "<tr>\n",
       "  <th>weather_2</th> <td>-2.626e+04</td> <td> 1017.626</td> <td>  -25.809</td> <td> 0.000</td> <td>-2.83e+04</td> <td>-2.43e+04</td>\n",
       "</tr>\n",
       "<tr>\n",
       "  <th>weather_3</th> <td> -2.63e+04</td> <td> 1017.582</td> <td>  -25.847</td> <td> 0.000</td> <td>-2.83e+04</td> <td>-2.43e+04</td>\n",
       "</tr>\n",
       "<tr>\n",
       "  <th>weather_4</th> <td> -2.62e+04</td> <td> 1024.995</td> <td>  -25.565</td> <td> 0.000</td> <td>-2.82e+04</td> <td>-2.42e+04</td>\n",
       "</tr>\n",
       "</table>\n",
       "<table class=\"simpletable\">\n",
       "<tr>\n",
       "  <th>Omnibus:</th>       <td>1719.223</td> <th>  Durbin-Watson:     </th> <td>   2.025</td>\n",
       "</tr>\n",
       "<tr>\n",
       "  <th>Prob(Omnibus):</th>  <td> 0.000</td>  <th>  Jarque-Bera (JB):  </th> <td>3331.957</td>\n",
       "</tr>\n",
       "<tr>\n",
       "  <th>Skew:</th>           <td> 1.202</td>  <th>  Prob(JB):          </th> <td>    0.00</td>\n",
       "</tr>\n",
       "<tr>\n",
       "  <th>Kurtosis:</th>       <td> 4.844</td>  <th>  Cond. No.          </th> <td>1.72e+19</td>\n",
       "</tr>\n",
       "</table>"
      ],
      "text/plain": [
       "<class 'statsmodels.iolib.summary.Summary'>\n",
       "\"\"\"\n",
       "                            OLS Regression Results                            \n",
       "==============================================================================\n",
       "Dep. Variable:                      y   R-squared:                       0.398\n",
       "Model:                            OLS   Adj. R-squared:                  0.397\n",
       "Method:                 Least Squares   F-statistic:                     441.3\n",
       "Date:                Fri, 16 Feb 2018   Prob (F-statistic):               0.00\n",
       "Time:                        20:26:31   Log-Likelihood:                -55380.\n",
       "No. Observations:                8708   AIC:                         1.108e+05\n",
       "Df Residuals:                    8694   BIC:                         1.109e+05\n",
       "Df Model:                          13                                         \n",
       "Covariance Type:            nonrobust                                         \n",
       "==============================================================================\n",
       "                 coef    std err          t      P>|t|      [0.025      0.975]\n",
       "------------------------------------------------------------------------------\n",
       "const       -1.05e+05   4070.451    -25.805      0.000   -1.13e+05   -9.71e+04\n",
       "holiday      -13.4749      9.181     -1.468      0.142     -31.472       4.523\n",
       "temp           8.2176      0.333     24.689      0.000       7.565       8.870\n",
       "humidity      -1.9449      0.098    -19.841      0.000      -2.137      -1.753\n",
       "windspeed      0.4091      0.197      2.080      0.038       0.024       0.795\n",
       "year          78.3271      3.035     25.807      0.000      72.378      84.277\n",
       "month         10.0021      1.863      5.370      0.000       6.351      13.654\n",
       "time           7.7705      0.233     33.363      0.000       7.314       8.227\n",
       "season_1   -2.624e+04   1017.926    -25.777      0.000   -2.82e+04   -2.42e+04\n",
       "season_2   -2.625e+04   1017.528    -25.794      0.000   -2.82e+04   -2.43e+04\n",
       "season_3    -2.63e+04   1017.323    -25.847      0.000   -2.83e+04   -2.43e+04\n",
       "season_4   -2.626e+04   1017.771    -25.800      0.000   -2.83e+04   -2.43e+04\n",
       "weather_1  -2.627e+04   1017.468    -25.819      0.000   -2.83e+04   -2.43e+04\n",
       "weather_2  -2.626e+04   1017.626    -25.809      0.000   -2.83e+04   -2.43e+04\n",
       "weather_3   -2.63e+04   1017.582    -25.847      0.000   -2.83e+04   -2.43e+04\n",
       "weather_4   -2.62e+04   1024.995    -25.565      0.000   -2.82e+04   -2.42e+04\n",
       "==============================================================================\n",
       "Omnibus:                     1719.223   Durbin-Watson:                   2.025\n",
       "Prob(Omnibus):                  0.000   Jarque-Bera (JB):             3331.957\n",
       "Skew:                           1.202   Prob(JB):                         0.00\n",
       "Kurtosis:                       4.844   Cond. No.                     1.72e+19\n",
       "==============================================================================\n",
       "\n",
       "Warnings:\n",
       "[1] Standard Errors assume that the covariance matrix of the errors is correctly specified.\n",
       "[2] The smallest eigenvalue is 1.19e-28. This might indicate that there are\n",
       "strong multicollinearity problems or that the design matrix is singular.\n",
       "\"\"\""
      ]
     },
     "execution_count": 641,
     "metadata": {},
     "output_type": "execute_result"
    }
   ],
   "source": [
    "x_train_opt=x_train[['const','holiday','temp','humidity','windspeed','year', 'month','time','season_1','season_2','season_3',\n",
    "                'season_4','weather_1','weather_2','weather_3','weather_4']]\n",
    "\n",
    "#backward elimination: select a significance level to stay in the model (pvalue<=0.05)\n",
    "regressor=sm.OLS(endog=y_train,exog=x_train_opt).fit()\n",
    "#fit the full model with all possible predictors\n",
    "\n",
    "regressor.summary()"
   ]
  },
  {
   "cell_type": "code",
   "execution_count": 642,
   "metadata": {},
   "outputs": [
    {
     "data": {
      "text/html": [
       "<table class=\"simpletable\">\n",
       "<caption>OLS Regression Results</caption>\n",
       "<tr>\n",
       "  <th>Dep. Variable:</th>            <td>y</td>        <th>  R-squared:         </th> <td>   0.397</td> \n",
       "</tr>\n",
       "<tr>\n",
       "  <th>Model:</th>                   <td>OLS</td>       <th>  Adj. R-squared:    </th> <td>   0.397</td> \n",
       "</tr>\n",
       "<tr>\n",
       "  <th>Method:</th>             <td>Least Squares</td>  <th>  F-statistic:       </th> <td>   477.8</td> \n",
       "</tr>\n",
       "<tr>\n",
       "  <th>Date:</th>             <td>Fri, 16 Feb 2018</td> <th>  Prob (F-statistic):</th>  <td>  0.00</td>  \n",
       "</tr>\n",
       "<tr>\n",
       "  <th>Time:</th>                 <td>20:26:32</td>     <th>  Log-Likelihood:    </th> <td> -55381.</td> \n",
       "</tr>\n",
       "<tr>\n",
       "  <th>No. Observations:</th>      <td>  8708</td>      <th>  AIC:               </th> <td>1.108e+05</td>\n",
       "</tr>\n",
       "<tr>\n",
       "  <th>Df Residuals:</th>          <td>  8695</td>      <th>  BIC:               </th> <td>1.109e+05</td>\n",
       "</tr>\n",
       "<tr>\n",
       "  <th>Df Model:</th>              <td>    12</td>      <th>                     </th>     <td> </td>    \n",
       "</tr>\n",
       "<tr>\n",
       "  <th>Covariance Type:</th>      <td>nonrobust</td>    <th>                     </th>     <td> </td>    \n",
       "</tr>\n",
       "</table>\n",
       "<table class=\"simpletable\">\n",
       "<tr>\n",
       "      <td></td>         <th>coef</th>     <th>std err</th>      <th>t</th>      <th>P>|t|</th>  <th>[0.025</th>    <th>0.975]</th>  \n",
       "</tr>\n",
       "<tr>\n",
       "  <th>const</th>     <td>-1.049e+05</td> <td> 4070.258</td> <td>  -25.784</td> <td> 0.000</td> <td>-1.13e+05</td> <td> -9.7e+04</td>\n",
       "</tr>\n",
       "<tr>\n",
       "  <th>temp</th>      <td>    8.2205</td> <td>    0.333</td> <td>   24.696</td> <td> 0.000</td> <td>    7.568</td> <td>    8.873</td>\n",
       "</tr>\n",
       "<tr>\n",
       "  <th>humidity</th>  <td>   -1.9478</td> <td>    0.098</td> <td>  -19.873</td> <td> 0.000</td> <td>   -2.140</td> <td>   -1.756</td>\n",
       "</tr>\n",
       "<tr>\n",
       "  <th>windspeed</th> <td>    0.4008</td> <td>    0.197</td> <td>    2.039</td> <td> 0.042</td> <td>    0.015</td> <td>    0.786</td>\n",
       "</tr>\n",
       "<tr>\n",
       "  <th>year</th>      <td>   78.2590</td> <td>    3.035</td> <td>   25.786</td> <td> 0.000</td> <td>   72.310</td> <td>   84.208</td>\n",
       "</tr>\n",
       "<tr>\n",
       "  <th>month</th>     <td>   10.3104</td> <td>    1.851</td> <td>    5.570</td> <td> 0.000</td> <td>    6.682</td> <td>   13.939</td>\n",
       "</tr>\n",
       "<tr>\n",
       "  <th>time</th>      <td>    7.7698</td> <td>    0.233</td> <td>   33.358</td> <td> 0.000</td> <td>    7.313</td> <td>    8.226</td>\n",
       "</tr>\n",
       "<tr>\n",
       "  <th>season_1</th>  <td>-2.622e+04</td> <td> 1017.863</td> <td>  -25.755</td> <td> 0.000</td> <td>-2.82e+04</td> <td>-2.42e+04</td>\n",
       "</tr>\n",
       "<tr>\n",
       "  <th>season_2</th>  <td>-2.622e+04</td> <td> 1017.474</td> <td>  -25.773</td> <td> 0.000</td> <td>-2.82e+04</td> <td>-2.42e+04</td>\n",
       "</tr>\n",
       "<tr>\n",
       "  <th>season_3</th>  <td>-2.627e+04</td> <td> 1017.280</td> <td>  -25.827</td> <td> 0.000</td> <td>-2.83e+04</td> <td>-2.43e+04</td>\n",
       "</tr>\n",
       "<tr>\n",
       "  <th>season_4</th>  <td>-2.624e+04</td> <td> 1017.737</td> <td>  -25.780</td> <td> 0.000</td> <td>-2.82e+04</td> <td>-2.42e+04</td>\n",
       "</tr>\n",
       "<tr>\n",
       "  <th>weather_1</th> <td>-2.625e+04</td> <td> 1017.422</td> <td>  -25.799</td> <td> 0.000</td> <td>-2.82e+04</td> <td>-2.43e+04</td>\n",
       "</tr>\n",
       "<tr>\n",
       "  <th>weather_2</th> <td>-2.624e+04</td> <td> 1017.580</td> <td>  -25.788</td> <td> 0.000</td> <td>-2.82e+04</td> <td>-2.42e+04</td>\n",
       "</tr>\n",
       "<tr>\n",
       "  <th>weather_3</th> <td>-2.628e+04</td> <td> 1017.534</td> <td>  -25.826</td> <td> 0.000</td> <td>-2.83e+04</td> <td>-2.43e+04</td>\n",
       "</tr>\n",
       "<tr>\n",
       "  <th>weather_4</th> <td>-2.618e+04</td> <td> 1024.943</td> <td>  -25.544</td> <td> 0.000</td> <td>-2.82e+04</td> <td>-2.42e+04</td>\n",
       "</tr>\n",
       "</table>\n",
       "<table class=\"simpletable\">\n",
       "<tr>\n",
       "  <th>Omnibus:</th>       <td>1725.055</td> <th>  Durbin-Watson:     </th> <td>   2.025</td>\n",
       "</tr>\n",
       "<tr>\n",
       "  <th>Prob(Omnibus):</th>  <td> 0.000</td>  <th>  Jarque-Bera (JB):  </th> <td>3353.110</td>\n",
       "</tr>\n",
       "<tr>\n",
       "  <th>Skew:</th>           <td> 1.205</td>  <th>  Prob(JB):          </th> <td>    0.00</td>\n",
       "</tr>\n",
       "<tr>\n",
       "  <th>Kurtosis:</th>       <td> 4.854</td>  <th>  Cond. No.          </th> <td>2.19e+19</td>\n",
       "</tr>\n",
       "</table>"
      ],
      "text/plain": [
       "<class 'statsmodels.iolib.summary.Summary'>\n",
       "\"\"\"\n",
       "                            OLS Regression Results                            \n",
       "==============================================================================\n",
       "Dep. Variable:                      y   R-squared:                       0.397\n",
       "Model:                            OLS   Adj. R-squared:                  0.397\n",
       "Method:                 Least Squares   F-statistic:                     477.8\n",
       "Date:                Fri, 16 Feb 2018   Prob (F-statistic):               0.00\n",
       "Time:                        20:26:32   Log-Likelihood:                -55381.\n",
       "No. Observations:                8708   AIC:                         1.108e+05\n",
       "Df Residuals:                    8695   BIC:                         1.109e+05\n",
       "Df Model:                          12                                         \n",
       "Covariance Type:            nonrobust                                         \n",
       "==============================================================================\n",
       "                 coef    std err          t      P>|t|      [0.025      0.975]\n",
       "------------------------------------------------------------------------------\n",
       "const      -1.049e+05   4070.258    -25.784      0.000   -1.13e+05    -9.7e+04\n",
       "temp           8.2205      0.333     24.696      0.000       7.568       8.873\n",
       "humidity      -1.9478      0.098    -19.873      0.000      -2.140      -1.756\n",
       "windspeed      0.4008      0.197      2.039      0.042       0.015       0.786\n",
       "year          78.2590      3.035     25.786      0.000      72.310      84.208\n",
       "month         10.3104      1.851      5.570      0.000       6.682      13.939\n",
       "time           7.7698      0.233     33.358      0.000       7.313       8.226\n",
       "season_1   -2.622e+04   1017.863    -25.755      0.000   -2.82e+04   -2.42e+04\n",
       "season_2   -2.622e+04   1017.474    -25.773      0.000   -2.82e+04   -2.42e+04\n",
       "season_3   -2.627e+04   1017.280    -25.827      0.000   -2.83e+04   -2.43e+04\n",
       "season_4   -2.624e+04   1017.737    -25.780      0.000   -2.82e+04   -2.42e+04\n",
       "weather_1  -2.625e+04   1017.422    -25.799      0.000   -2.82e+04   -2.43e+04\n",
       "weather_2  -2.624e+04   1017.580    -25.788      0.000   -2.82e+04   -2.42e+04\n",
       "weather_3  -2.628e+04   1017.534    -25.826      0.000   -2.83e+04   -2.43e+04\n",
       "weather_4  -2.618e+04   1024.943    -25.544      0.000   -2.82e+04   -2.42e+04\n",
       "==============================================================================\n",
       "Omnibus:                     1725.055   Durbin-Watson:                   2.025\n",
       "Prob(Omnibus):                  0.000   Jarque-Bera (JB):             3353.110\n",
       "Skew:                           1.205   Prob(JB):                         0.00\n",
       "Kurtosis:                       4.854   Cond. No.                     2.19e+19\n",
       "==============================================================================\n",
       "\n",
       "Warnings:\n",
       "[1] Standard Errors assume that the covariance matrix of the errors is correctly specified.\n",
       "[2] The smallest eigenvalue is 7.36e-29. This might indicate that there are\n",
       "strong multicollinearity problems or that the design matrix is singular.\n",
       "\"\"\""
      ]
     },
     "execution_count": 642,
     "metadata": {},
     "output_type": "execute_result"
    }
   ],
   "source": [
    "x_train_opt=x_train[['const','temp','humidity','windspeed','year', 'month','time','season_1','season_2','season_3',\n",
    "                'season_4','weather_1','weather_2','weather_3','weather_4']]\n",
    "#backward elimination: select a significance level to stay in the model (pvalue<=0.05)\n",
    "regressor=sm.OLS(endog=y_train,exog=x_train_opt).fit()\n",
    "#fit the full model with all possible predictors\n",
    "\n",
    "regressor.summary()"
   ]
  },
  {
   "cell_type": "code",
   "execution_count": 643,
   "metadata": {},
   "outputs": [
    {
     "data": {
      "text/plain": [
       "<matplotlib.text.Text at 0x209d74c2400>"
      ]
     },
     "execution_count": 643,
     "metadata": {},
     "output_type": "execute_result"
    },
    {
     "data": {
      "image/png": "[encoded data removed]",
      "text/plain": [
       "<matplotlib.figure.Figure at 0x209d9090240>"
      ]
     },
     "metadata": {},
     "output_type": "display_data"
    }
   ],
   "source": [
    "x_test_opt=x_test[['const','temp','humidity','windspeed','year', 'month','time','season_1','season_2','season_3',\n",
    "                'season_4','weather_1','weather_2','weather_3','weather_4']]\n",
    "linreg = LinearRegression()\n",
    "linreg.fit(x_train_opt, y_train)\n",
    "y_pred = linreg.predict(x_test_opt)\n",
    "\n",
    "plt.scatter(y_test, y_pred)\n",
    "plt.xlabel(\"bike demands: $Y_i$\")\n",
    "plt.ylabel(\"Predicted bike demands: $\\hat{y}_i$\")\n",
    "plt.title(\"bike demands vs Predicted demands: $Y_i$ vs $\\hat{y}_i$\")\n"
   ]
  },
  {
   "cell_type": "code",
   "execution_count": 644,
   "metadata": {},
   "outputs": [
    {
     "data": {
      "text/plain": [
       "143.90089223868023"
      ]
     },
     "execution_count": 644,
     "metadata": {},
     "output_type": "execute_result"
    }
   ],
   "source": [
    "from sklearn import metrics\n",
    "rmse = np.sqrt(metrics.mean_squared_error(y_test, y_pred))\n",
    "rmse"
   ]
  },
  {
   "cell_type": "markdown",
   "metadata": {},
   "source": [
    "## K-Fold Cross Validation for Linear Regression"
   ]
  },
  {
   "cell_type": "code",
   "execution_count": 645,
   "metadata": {
    "collapsed": true
   },
   "outputs": [],
   "source": [
    "predictors_opt=predictors[['const','temp','humidity','windspeed','year', 'month','time','season_1','season_2','season_3',\n",
    "                'season_4','weather_1','weather_2','weather_3','weather_4']]\n"
   ]
  },
  {
   "cell_type": "code",
   "execution_count": 646,
   "metadata": {},
   "outputs": [],
   "source": [
    "#K Fold cross validation\n",
    "from sklearn.cross_validation import KFold\n",
    "\n",
    "predictors_opt_np = predictors_opt.as_matrix() #generate new np array datasets:predictors_opt_np and target_np\n",
    "target_np=target.copy()\n"
   ]
  },
  {
   "cell_type": "code",
   "execution_count": 647,
   "metadata": {
    "collapsed": true
   },
   "outputs": [],
   "source": [
    "kf = KFold(len(predictors_opt_np), n_folds=5)"
   ]
  },
  {
   "cell_type": "code",
   "execution_count": 648,
   "metadata": {},
   "outputs": [
    {
     "data": {
      "text/plain": [
       "[103.02099392270003,\n",
       " 119.5083581522899,\n",
       " 114.78663152648696,\n",
       " 179.22605753389917,\n",
       " 183.73604664989338]"
      ]
     },
     "execution_count": 648,
     "metadata": {},
     "output_type": "execute_result"
    }
   ],
   "source": [
    "scores = []\n",
    "for train_index, test_index in kf:\n",
    "    linreg.fit(predictors_opt_np[train_index],target_np[train_index])\n",
    "    scores.append(np.sqrt(metrics.mean_squared_error(target_np[test_index], linreg.predict(predictors_opt_np[test_index]))))\n",
    "scores"
   ]
  },
  {
   "cell_type": "code",
   "execution_count": 649,
   "metadata": {},
   "outputs": [
    {
     "data": {
      "text/plain": [
       "140.05561755705389"
      ]
     },
     "execution_count": 649,
     "metadata": {},
     "output_type": "execute_result"
    }
   ],
   "source": [
    "np.mean(scores)"
   ]
  },
  {
   "cell_type": "code",
   "execution_count": 650,
   "metadata": {},
   "outputs": [
    {
     "data": {
      "text/plain": [
       "119.5083581522899"
      ]
     },
     "execution_count": 650,
     "metadata": {},
     "output_type": "execute_result"
    }
   ],
   "source": [
    "np.median(scores)"
   ]
  },
  {
   "cell_type": "code",
   "execution_count": 651,
   "metadata": {},
   "outputs": [
    {
     "data": {
      "text/plain": [
       "34.277042245538361"
      ]
     },
     "execution_count": 651,
     "metadata": {},
     "output_type": "execute_result"
    }
   ],
   "source": [
    "np.std(scores)"
   ]
  },
  {
   "cell_type": "code",
   "execution_count": 652,
   "metadata": {
    "collapsed": true
   },
   "outputs": [],
   "source": [
    "def show_stats(m, ncv, cv):\n",
    "  print('Method: %s' %m)\n",
    "  print('RMSE on no CV training: %.3f' %ncv)\n",
    "  print('RMSE on 5-fold CV: %.3f' %cv)"
   ]
  },
  {
   "cell_type": "code",
   "execution_count": 653,
   "metadata": {},
   "outputs": [
    {
     "name": "stdout",
     "output_type": "stream",
     "text": [
      "Method: Simple Linear Regression\n",
      "RMSE on no CV training: 143.901\n",
      "RMSE on 5-fold CV: 140.056\n"
     ]
    }
   ],
   "source": [
    "show_stats('Simple Linear Regression',rmse ,np.mean(scores))"
   ]
  },
  {
   "cell_type": "markdown",
   "metadata": {},
   "source": [
    "The RMSE on no CV training is bigger than the RMSE on 5-fold CV.\n",
    "We can conclude that the linear regression fits better with K-fold cross validation."
   ]
  },
  {
   "cell_type": "markdown",
   "metadata": {},
   "source": [
    "## Regularization of linear regression"
   ]
  },
  {
   "cell_type": "code",
   "execution_count": 654,
   "metadata": {},
   "outputs": [
    {
     "data": {
      "text/plain": [
       "Ridge(alpha=0.5, copy_X=True, fit_intercept=True, max_iter=None,\n",
       "   normalize=False, random_state=None, solver='auto', tol=0.001)"
      ]
     },
     "execution_count": 654,
     "metadata": {},
     "output_type": "execute_result"
    }
   ],
   "source": [
    "from sklearn.linear_model import LinearRegression, Lasso, Ridge, ElasticNet, SGDRegressor\n",
    "ridge = Ridge(fit_intercept=True, alpha=0.5)\n",
    "ridge.fit(x_train_opt,y_train)\n"
   ]
  },
  {
   "cell_type": "code",
   "execution_count": 655,
   "metadata": {},
   "outputs": [
    {
     "data": {
      "text/plain": [
       "<matplotlib.text.Text at 0x209e7772320>"
      ]
     },
     "execution_count": 655,
     "metadata": {},
     "output_type": "execute_result"
    },
    {
     "data": {
      "image/png": "[encoded data removed]",
      "text/plain": [
       "<matplotlib.figure.Figure at 0x209d7b1c5f8>"
      ]
     },
     "metadata": {},
     "output_type": "display_data"
    }
   ],
   "source": [
    "y_pred_ridge = ridge.predict(x_test_opt)\n",
    "plt.scatter(y_test, y_pred_ridge)\n",
    "plt.xlabel(\"Bike demands: $Y_i$\")\n",
    "plt.ylabel(\"Predicted bike demands $\\hat{y}_i$\")\n",
    "plt.title(\"Ridge Regression - Bike denmand vs Predicted bike demands: $Y_i$ vs $\\hat{y}_i$\")"
   ]
  },
  {
   "cell_type": "code",
   "execution_count": 656,
   "metadata": {},
   "outputs": [
    {
     "data": {
      "text/plain": [
       "143.90080942485781"
      ]
     },
     "execution_count": 656,
     "metadata": {},
     "output_type": "execute_result"
    }
   ],
   "source": [
    "rmse = np.sqrt(metrics.mean_squared_error(y_test, y_pred_ridge))\n",
    "rmse"
   ]
  },
  {
   "cell_type": "markdown",
   "metadata": {},
   "source": [
    "## K-Fold Cross-validation for Ridge Linear Regression"
   ]
  },
  {
   "cell_type": "code",
   "execution_count": 657,
   "metadata": {
    "collapsed": true
   },
   "outputs": [],
   "source": [
    "kf = KFold(len(predictors_opt_np), n_folds=5)"
   ]
  },
  {
   "cell_type": "code",
   "execution_count": 658,
   "metadata": {},
   "outputs": [
    {
     "data": {
      "text/plain": [
       "[87.191572593295021,\n",
       " 118.85514939125893,\n",
       " 111.18783322236276,\n",
       " 178.17901254347385,\n",
       " 183.73604664989338]"
      ]
     },
     "execution_count": 658,
     "metadata": {},
     "output_type": "execute_result"
    }
   ],
   "source": [
    "scores = []\n",
    "for train_index, test_index in kf:\n",
    "    ridge.fit(predictors_opt_np[train_index],target_np[train_index])\n",
    "    scores.append(np.sqrt(metrics.mean_squared_error(target_np[test_index], linreg.predict(predictors_opt_np[test_index]))))\n",
    "scores"
   ]
  },
  {
   "cell_type": "code",
   "execution_count": 659,
   "metadata": {},
   "outputs": [
    {
     "data": {
      "text/plain": [
       "135.82992288005678"
      ]
     },
     "execution_count": 659,
     "metadata": {},
     "output_type": "execute_result"
    }
   ],
   "source": [
    "np.mean(scores)"
   ]
  },
  {
   "cell_type": "markdown",
   "metadata": {},
   "source": [
    "## The Choice of Alpha in Ridge Regression"
   ]
  },
  {
   "cell_type": "code",
   "execution_count": 660,
   "metadata": {},
   "outputs": [
    {
     "name": "stdout",
     "output_type": "stream",
     "text": [
      "Ridge Regression\n",
      "alpha\t RMSE_train\t RMSE_cv\n",
      "\n",
      "0.010\t 143.9009\t\t 144.1858\n",
      "0.418\t 143.9008\t\t 144.1832\n",
      "0.826\t 143.9008\t\t 144.1810\n",
      "1.234\t 143.9009\t\t 144.1789\n",
      "1.642\t 143.9010\t\t 144.1770\n",
      "2.050\t 143.9011\t\t 144.1751\n",
      "2.458\t 143.9012\t\t 144.1733\n",
      "2.866\t 143.9014\t\t 144.1715\n",
      "3.274\t 143.9015\t\t 144.1698\n",
      "3.682\t 143.9017\t\t 144.1680\n",
      "4.090\t 143.9019\t\t 144.1664\n",
      "4.498\t 143.9020\t\t 144.1647\n",
      "4.906\t 143.9022\t\t 144.1630\n",
      "5.313\t 143.9024\t\t 144.1614\n",
      "5.721\t 143.9026\t\t 144.1598\n",
      "6.129\t 143.9028\t\t 144.1582\n",
      "6.537\t 143.9029\t\t 144.1567\n",
      "6.945\t 143.9031\t\t 144.1551\n",
      "7.353\t 143.9033\t\t 144.1536\n",
      "7.761\t 143.9035\t\t 144.1520\n",
      "8.169\t 143.9037\t\t 144.1505\n",
      "8.577\t 143.9040\t\t 144.1490\n",
      "8.985\t 143.9042\t\t 144.1476\n",
      "9.393\t 143.9044\t\t 144.1461\n",
      "9.801\t 143.9046\t\t 144.1446\n",
      "10.209\t 143.9048\t\t 144.1432\n",
      "10.617\t 143.9050\t\t 144.1418\n",
      "11.025\t 143.9053\t\t 144.1403\n",
      "11.433\t 143.9055\t\t 144.1389\n",
      "11.841\t 143.9057\t\t 144.1375\n",
      "12.249\t 143.9059\t\t 144.1362\n",
      "12.657\t 143.9062\t\t 144.1348\n",
      "13.065\t 143.9064\t\t 144.1334\n",
      "13.473\t 143.9067\t\t 144.1321\n",
      "13.881\t 143.9069\t\t 144.1307\n",
      "14.289\t 143.9071\t\t 144.1294\n",
      "14.697\t 143.9074\t\t 144.1281\n",
      "15.104\t 143.9076\t\t 144.1268\n",
      "15.512\t 143.9079\t\t 144.1255\n",
      "15.920\t 143.9081\t\t 144.1242\n",
      "16.328\t 143.9084\t\t 144.1230\n",
      "16.736\t 143.9086\t\t 144.1217\n",
      "17.144\t 143.9089\t\t 144.1205\n",
      "17.552\t 143.9092\t\t 144.1192\n",
      "17.960\t 143.9094\t\t 144.1180\n",
      "18.368\t 143.9097\t\t 144.1168\n",
      "18.776\t 143.9099\t\t 144.1156\n",
      "19.184\t 143.9102\t\t 144.1144\n",
      "19.592\t 143.9105\t\t 144.1132\n",
      "20.000\t 143.9108\t\t 144.1120\n"
     ]
    }
   ],
   "source": [
    "print('Ridge Regression')\n",
    "print('alpha\\t RMSE_train\\t RMSE_cv\\n')\n",
    "alpha = np.linspace(.01,20,50)\n",
    "t_rmse = np.array([])\n",
    "cv_rmse = np.array([])\n",
    "for a in alpha:\n",
    "    ridge = Ridge(fit_intercept=True, alpha=a) \n",
    "    # computing the RMSE on training data\n",
    "    ridge.fit(x_train_opt,y_train)\n",
    "    y_pred = ridge.predict(x_test_opt)\n",
    "    err = y_pred-y_test    \n",
    "    # Dot product of error vector with itself gives us the sum of squared errors\n",
    "    total_error = np.dot(err,err)\n",
    "    rmse_train = np.sqrt(total_error/len(y_pred))\n",
    "\n",
    "    # computing RMSE using 5-fold cross validation\n",
    "    kf = KFold(len(predictors_opt_np), n_folds=5)\n",
    "    xval_err = 0\n",
    "    for train, test in kf:\n",
    "        ridge.fit(predictors_opt_np[train], target_np[train])\n",
    "        y_pred = ridge.predict(predictors_opt_np[test])\n",
    "        err = y_pred - target_np[test]\n",
    "        xval_err += np.dot(err,err)\n",
    "    rmse_cv = np.sqrt(xval_err/len(predictors_opt_np))\n",
    "    t_rmse=np.append(t_rmse, [rmse_train])\n",
    "    cv_rmse=np.append(cv_rmse, [rmse_cv])\n",
    "    print('{:.3f}\\t {:.4f}\\t\\t {:.4f}'.format(a,rmse_train,rmse_cv))\n"
   ]
  },
  {
   "cell_type": "code",
   "execution_count": 661,
   "metadata": {},
   "outputs": [
    {
     "data": {
      "image/png": "[encoded data removed]",
      "text/plain": [
       "<matplotlib.figure.Figure at 0x209d7b1ce80>"
      ]
     },
     "metadata": {},
     "output_type": "display_data"
    }
   ],
   "source": [
    "import pylab as pl\n",
    "pl.plot(alpha, t_rmse, label='RMSE-Train')\n",
    "pl.plot(alpha, cv_rmse, label='RMSE_Cross_Val')\n",
    "pl.legend( ('Ridge RMSE-Train', 'Ridge RMSE_Cross_Val') )\n",
    "pl.ylabel('RMSE')\n",
    "pl.xlabel('Alpha')\n",
    "pl.show()"
   ]
  },
  {
   "cell_type": "markdown",
   "metadata": {},
   "source": [
    "# logistic regression"
   ]
  },
  {
   "cell_type": "code",
   "execution_count": 662,
   "metadata": {},
   "outputs": [
    {
     "data": {
      "text/plain": [
       "array([ 16,  40,  32, ..., 168, 129,  88], dtype=int64)"
      ]
     },
     "execution_count": 662,
     "metadata": {},
     "output_type": "execute_result"
    }
   ],
   "source": [
    "predictors\n",
    "target"
   ]
  },
  {
   "cell_type": "code",
   "execution_count": 663,
   "metadata": {
    "collapsed": true
   },
   "outputs": [],
   "source": [
    "columns=['count']\n",
    "target_bi=pd.DataFrame(target,columns=columns)\n"
   ]
  },
  {
   "cell_type": "code",
   "execution_count": 664,
   "metadata": {},
   "outputs": [
    {
     "data": {
      "text/html": [
       "<div>\n",
       "<style>\n",
       "    .dataframe thead tr:only-child th {\n",
       "        text-align: right;\n",
       "    }\n",
       "\n",
       "    .dataframe thead th {\n",
       "        text-align: left;\n",
       "    }\n",
       "\n",
       "    .dataframe tbody tr th {\n",
       "        vertical-align: top;\n",
       "    }\n",
       "</style>\n",
       "<table border=\"1\" class=\"dataframe\">\n",
       "  <thead>\n",
       "    <tr style=\"text-align: right;\">\n",
       "      <th></th>\n",
       "      <th>count</th>\n",
       "      <th>target_bi</th>\n",
       "    </tr>\n",
       "  </thead>\n",
       "  <tbody>\n",
       "    <tr>\n",
       "      <th>0</th>\n",
       "      <td>16</td>\n",
       "      <td>0.0</td>\n",
       "    </tr>\n",
       "    <tr>\n",
       "      <th>1</th>\n",
       "      <td>40</td>\n",
       "      <td>0.0</td>\n",
       "    </tr>\n",
       "    <tr>\n",
       "      <th>2</th>\n",
       "      <td>32</td>\n",
       "      <td>0.0</td>\n",
       "    </tr>\n",
       "    <tr>\n",
       "      <th>3</th>\n",
       "      <td>13</td>\n",
       "      <td>0.0</td>\n",
       "    </tr>\n",
       "    <tr>\n",
       "      <th>4</th>\n",
       "      <td>1</td>\n",
       "      <td>0.0</td>\n",
       "    </tr>\n",
       "    <tr>\n",
       "      <th>5</th>\n",
       "      <td>1</td>\n",
       "      <td>0.0</td>\n",
       "    </tr>\n",
       "    <tr>\n",
       "      <th>6</th>\n",
       "      <td>2</td>\n",
       "      <td>0.0</td>\n",
       "    </tr>\n",
       "    <tr>\n",
       "      <th>7</th>\n",
       "      <td>3</td>\n",
       "      <td>0.0</td>\n",
       "    </tr>\n",
       "    <tr>\n",
       "      <th>8</th>\n",
       "      <td>8</td>\n",
       "      <td>0.0</td>\n",
       "    </tr>\n",
       "    <tr>\n",
       "      <th>9</th>\n",
       "      <td>14</td>\n",
       "      <td>0.0</td>\n",
       "    </tr>\n",
       "    <tr>\n",
       "      <th>10</th>\n",
       "      <td>36</td>\n",
       "      <td>0.0</td>\n",
       "    </tr>\n",
       "    <tr>\n",
       "      <th>11</th>\n",
       "      <td>56</td>\n",
       "      <td>0.0</td>\n",
       "    </tr>\n",
       "    <tr>\n",
       "      <th>12</th>\n",
       "      <td>84</td>\n",
       "      <td>0.0</td>\n",
       "    </tr>\n",
       "    <tr>\n",
       "      <th>13</th>\n",
       "      <td>94</td>\n",
       "      <td>0.0</td>\n",
       "    </tr>\n",
       "    <tr>\n",
       "      <th>14</th>\n",
       "      <td>106</td>\n",
       "      <td>0.0</td>\n",
       "    </tr>\n",
       "    <tr>\n",
       "      <th>15</th>\n",
       "      <td>110</td>\n",
       "      <td>0.0</td>\n",
       "    </tr>\n",
       "    <tr>\n",
       "      <th>16</th>\n",
       "      <td>93</td>\n",
       "      <td>0.0</td>\n",
       "    </tr>\n",
       "    <tr>\n",
       "      <th>17</th>\n",
       "      <td>67</td>\n",
       "      <td>0.0</td>\n",
       "    </tr>\n",
       "    <tr>\n",
       "      <th>18</th>\n",
       "      <td>35</td>\n",
       "      <td>0.0</td>\n",
       "    </tr>\n",
       "    <tr>\n",
       "      <th>19</th>\n",
       "      <td>37</td>\n",
       "      <td>0.0</td>\n",
       "    </tr>\n",
       "    <tr>\n",
       "      <th>20</th>\n",
       "      <td>36</td>\n",
       "      <td>0.0</td>\n",
       "    </tr>\n",
       "    <tr>\n",
       "      <th>21</th>\n",
       "      <td>34</td>\n",
       "      <td>0.0</td>\n",
       "    </tr>\n",
       "    <tr>\n",
       "      <th>22</th>\n",
       "      <td>28</td>\n",
       "      <td>0.0</td>\n",
       "    </tr>\n",
       "    <tr>\n",
       "      <th>23</th>\n",
       "      <td>39</td>\n",
       "      <td>0.0</td>\n",
       "    </tr>\n",
       "    <tr>\n",
       "      <th>24</th>\n",
       "      <td>17</td>\n",
       "      <td>0.0</td>\n",
       "    </tr>\n",
       "    <tr>\n",
       "      <th>25</th>\n",
       "      <td>17</td>\n",
       "      <td>0.0</td>\n",
       "    </tr>\n",
       "    <tr>\n",
       "      <th>26</th>\n",
       "      <td>9</td>\n",
       "      <td>0.0</td>\n",
       "    </tr>\n",
       "    <tr>\n",
       "      <th>27</th>\n",
       "      <td>6</td>\n",
       "      <td>0.0</td>\n",
       "    </tr>\n",
       "    <tr>\n",
       "      <th>28</th>\n",
       "      <td>3</td>\n",
       "      <td>0.0</td>\n",
       "    </tr>\n",
       "    <tr>\n",
       "      <th>29</th>\n",
       "      <td>2</td>\n",
       "      <td>0.0</td>\n",
       "    </tr>\n",
       "    <tr>\n",
       "      <th>...</th>\n",
       "      <td>...</td>\n",
       "      <td>...</td>\n",
       "    </tr>\n",
       "    <tr>\n",
       "      <th>10856</th>\n",
       "      <td>525</td>\n",
       "      <td>1.0</td>\n",
       "    </tr>\n",
       "    <tr>\n",
       "      <th>10857</th>\n",
       "      <td>353</td>\n",
       "      <td>1.0</td>\n",
       "    </tr>\n",
       "    <tr>\n",
       "      <th>10858</th>\n",
       "      <td>268</td>\n",
       "      <td>1.0</td>\n",
       "    </tr>\n",
       "    <tr>\n",
       "      <th>10859</th>\n",
       "      <td>168</td>\n",
       "      <td>1.0</td>\n",
       "    </tr>\n",
       "    <tr>\n",
       "      <th>10860</th>\n",
       "      <td>132</td>\n",
       "      <td>0.0</td>\n",
       "    </tr>\n",
       "    <tr>\n",
       "      <th>10861</th>\n",
       "      <td>81</td>\n",
       "      <td>0.0</td>\n",
       "    </tr>\n",
       "    <tr>\n",
       "      <th>10862</th>\n",
       "      <td>41</td>\n",
       "      <td>0.0</td>\n",
       "    </tr>\n",
       "    <tr>\n",
       "      <th>10863</th>\n",
       "      <td>15</td>\n",
       "      <td>0.0</td>\n",
       "    </tr>\n",
       "    <tr>\n",
       "      <th>10864</th>\n",
       "      <td>3</td>\n",
       "      <td>0.0</td>\n",
       "    </tr>\n",
       "    <tr>\n",
       "      <th>10865</th>\n",
       "      <td>5</td>\n",
       "      <td>0.0</td>\n",
       "    </tr>\n",
       "    <tr>\n",
       "      <th>10866</th>\n",
       "      <td>7</td>\n",
       "      <td>0.0</td>\n",
       "    </tr>\n",
       "    <tr>\n",
       "      <th>10867</th>\n",
       "      <td>31</td>\n",
       "      <td>0.0</td>\n",
       "    </tr>\n",
       "    <tr>\n",
       "      <th>10868</th>\n",
       "      <td>112</td>\n",
       "      <td>0.0</td>\n",
       "    </tr>\n",
       "    <tr>\n",
       "      <th>10869</th>\n",
       "      <td>363</td>\n",
       "      <td>1.0</td>\n",
       "    </tr>\n",
       "    <tr>\n",
       "      <th>10870</th>\n",
       "      <td>678</td>\n",
       "      <td>1.0</td>\n",
       "    </tr>\n",
       "    <tr>\n",
       "      <th>10871</th>\n",
       "      <td>317</td>\n",
       "      <td>1.0</td>\n",
       "    </tr>\n",
       "    <tr>\n",
       "      <th>10872</th>\n",
       "      <td>164</td>\n",
       "      <td>1.0</td>\n",
       "    </tr>\n",
       "    <tr>\n",
       "      <th>10873</th>\n",
       "      <td>200</td>\n",
       "      <td>1.0</td>\n",
       "    </tr>\n",
       "    <tr>\n",
       "      <th>10874</th>\n",
       "      <td>236</td>\n",
       "      <td>1.0</td>\n",
       "    </tr>\n",
       "    <tr>\n",
       "      <th>10875</th>\n",
       "      <td>213</td>\n",
       "      <td>1.0</td>\n",
       "    </tr>\n",
       "    <tr>\n",
       "      <th>10876</th>\n",
       "      <td>218</td>\n",
       "      <td>1.0</td>\n",
       "    </tr>\n",
       "    <tr>\n",
       "      <th>10877</th>\n",
       "      <td>237</td>\n",
       "      <td>1.0</td>\n",
       "    </tr>\n",
       "    <tr>\n",
       "      <th>10878</th>\n",
       "      <td>334</td>\n",
       "      <td>1.0</td>\n",
       "    </tr>\n",
       "    <tr>\n",
       "      <th>10879</th>\n",
       "      <td>562</td>\n",
       "      <td>1.0</td>\n",
       "    </tr>\n",
       "    <tr>\n",
       "      <th>10880</th>\n",
       "      <td>569</td>\n",
       "      <td>1.0</td>\n",
       "    </tr>\n",
       "    <tr>\n",
       "      <th>10881</th>\n",
       "      <td>336</td>\n",
       "      <td>1.0</td>\n",
       "    </tr>\n",
       "    <tr>\n",
       "      <th>10882</th>\n",
       "      <td>241</td>\n",
       "      <td>1.0</td>\n",
       "    </tr>\n",
       "    <tr>\n",
       "      <th>10883</th>\n",
       "      <td>168</td>\n",
       "      <td>1.0</td>\n",
       "    </tr>\n",
       "    <tr>\n",
       "      <th>10884</th>\n",
       "      <td>129</td>\n",
       "      <td>0.0</td>\n",
       "    </tr>\n",
       "    <tr>\n",
       "      <th>10885</th>\n",
       "      <td>88</td>\n",
       "      <td>0.0</td>\n",
       "    </tr>\n",
       "  </tbody>\n",
       "</table>\n",
       "<p>10886 rows × 2 columns</p>\n",
       "</div>"
      ],
      "text/plain": [
       "       count target_bi\n",
       "0         16       0.0\n",
       "1         40       0.0\n",
       "2         32       0.0\n",
       "3         13       0.0\n",
       "4          1       0.0\n",
       "5          1       0.0\n",
       "6          2       0.0\n",
       "7          3       0.0\n",
       "8          8       0.0\n",
       "9         14       0.0\n",
       "10        36       0.0\n",
       "11        56       0.0\n",
       "12        84       0.0\n",
       "13        94       0.0\n",
       "14       106       0.0\n",
       "15       110       0.0\n",
       "16        93       0.0\n",
       "17        67       0.0\n",
       "18        35       0.0\n",
       "19        37       0.0\n",
       "20        36       0.0\n",
       "21        34       0.0\n",
       "22        28       0.0\n",
       "23        39       0.0\n",
       "24        17       0.0\n",
       "25        17       0.0\n",
       "26         9       0.0\n",
       "27         6       0.0\n",
       "28         3       0.0\n",
       "29         2       0.0\n",
       "...      ...       ...\n",
       "10856    525       1.0\n",
       "10857    353       1.0\n",
       "10858    268       1.0\n",
       "10859    168       1.0\n",
       "10860    132       0.0\n",
       "10861     81       0.0\n",
       "10862     41       0.0\n",
       "10863     15       0.0\n",
       "10864      3       0.0\n",
       "10865      5       0.0\n",
       "10866      7       0.0\n",
       "10867     31       0.0\n",
       "10868    112       0.0\n",
       "10869    363       1.0\n",
       "10870    678       1.0\n",
       "10871    317       1.0\n",
       "10872    164       1.0\n",
       "10873    200       1.0\n",
       "10874    236       1.0\n",
       "10875    213       1.0\n",
       "10876    218       1.0\n",
       "10877    237       1.0\n",
       "10878    334       1.0\n",
       "10879    562       1.0\n",
       "10880    569       1.0\n",
       "10881    336       1.0\n",
       "10882    241       1.0\n",
       "10883    168       1.0\n",
       "10884    129       0.0\n",
       "10885     88       0.0\n",
       "\n",
       "[10886 rows x 2 columns]"
      ]
     },
     "execution_count": 664,
     "metadata": {},
     "output_type": "execute_result"
    }
   ],
   "source": [
    "# Create a binary response from the numerical response\n",
    "# The binary response is 1 when the count response is larger than the median\n",
    "#The binary response is 0 when the count response is smaller than the median\n",
    "\n",
    "from statistics import median\n",
    "target_bi['target_bi'] = np.zeros(len(target_bi))\n",
    "target_bi.loc[df['count'] <= median(np.array(target_df['count'])), 'target_bi'] = 0\n",
    "target_bi.loc[df['count'] > median(np.array(target_df['count'])), 'target_bi'] = 1\n",
    "\n",
    "target_bi['target_bi'] =target_bi['target_bi'] .astype('category')\n",
    "target_bi"
   ]
  },
  {
   "cell_type": "markdown",
   "metadata": {},
   "source": [
    "##  Dataset Split"
   ]
  },
  {
   "cell_type": "code",
   "execution_count": 665,
   "metadata": {
    "collapsed": true
   },
   "outputs": [],
   "source": [
    "x_train_log, x_test_log, y_train_log, y_test_log = train_test_split(predictors, target_bi, test_size= .2, random_state=0)\n",
    "y_train_log=y_train_log['target_bi'].values\n",
    "y_test_log=y_test_log['target_bi'].values"
   ]
  },
  {
   "cell_type": "markdown",
   "metadata": {},
   "source": [
    "## Forward Stepwise-variable select"
   ]
  },
  {
   "cell_type": "markdown",
   "metadata": {},
   "source": [
    "We add variables to our logistic model step by step according to the accuracy rate of the model.\n",
    "First we compare the accuracy rate of each model with one variable as the predictors and add the varibale with largest accuacy rate into our model. Then we add variables into the model with the predictor we select last step. We will stop the process when the  maximum accuracy rate is no longer larger than the maximum accuracy rate of last step.\n",
    "\n",
    "The predictor we select are: 'time','temp','season_4','humidity','weather_3','season_2','year'.\n"
   ]
  },
  {
   "cell_type": "code",
   "execution_count": 666,
   "metadata": {
    "collapsed": true
   },
   "outputs": [],
   "source": [
    "from sklearn.linear_model import LogisticRegression\n",
    "from sklearn.metrics import confusion_matrix, accuracy_score, precision_score, recall_score\n",
    "from sklearn.metrics import roc_curve, auc\n",
    "def caculate_auc(features):\n",
    "    X_full = np.array(x_train_log[features])\n",
    "    Y_full = np.array(y_train_log)\n",
    "    \n",
    "    logit = LogisticRegression()\n",
    "    res_logit = logit.fit(X_full, Y_full)\n",
    "    Y_pred_full = res_logit.predict(X_full)\n",
    "    \n",
    "    false_positive_rate, true_positive_rate, thresholds = roc_curve(Y_full, Y_pred_full)\n",
    "    return auc(false_positive_rate, true_positive_rate)"
   ]
  },
  {
   "cell_type": "code",
   "execution_count": 667,
   "metadata": {},
   "outputs": [
    {
     "name": "stdout",
     "output_type": "stream",
     "text": [
      "['const', 'holiday', 'workingday', 'temp', 'humidity', 'windspeed', 'year', 'month', 'day', 'time', 'season_1', 'season_2', 'season_3', 'season_4', 'weather_1', 'weather_2', 'weather_3', 'weather_4']\n"
     ]
    }
   ],
   "source": [
    "features = list(predictors.columns)\n",
    "print(features)"
   ]
  },
  {
   "cell_type": "code",
   "execution_count": 668,
   "metadata": {
    "scrolled": false
   },
   "outputs": [
    {
     "name": "stdout",
     "output_type": "stream",
     "text": [
      "['const'] 0.5\n",
      "['holiday'] 0.5\n",
      "['workingday'] 0.516288462695\n",
      "['temp'] 0.652491218852\n",
      "['humidity'] 0.62653536885\n",
      "['windspeed'] 0.545472683745\n",
      "['year'] 0.5\n",
      "['month'] 0.577839536849\n",
      "['day'] 0.504007674866\n",
      "['time'] 0.709528060107\n",
      "['season_1'] 0.605311579087\n",
      "['season_2'] 0.527472042238\n",
      "['season_3'] 0.553720157549\n",
      "['season_4'] 0.5241193793\n",
      "['weather_1'] 0.543910066693\n",
      "['weather_2'] 0.510799203181\n",
      "['weather_3'] 0.533226872793\n",
      "['weather_4'] 0.500116009281\n"
     ]
    }
   ],
   "source": [
    "# first round iteration\n",
    "for p in features:\n",
    "    auc_res = caculate_auc([p])\n",
    "    print([p], auc_res)\n",
    "    \n",
    "#pick the highest value \"time\""
   ]
  },
  {
   "cell_type": "code",
   "execution_count": 669,
   "metadata": {},
   "outputs": [
    {
     "name": "stdout",
     "output_type": "stream",
     "text": [
      "['const', 'holiday', 'workingday', 'temp', 'humidity', 'windspeed', 'year', 'month', 'day', 'season_1', 'season_2', 'season_3', 'season_4', 'weather_1', 'weather_2', 'weather_3', 'weather_4']\n"
     ]
    }
   ],
   "source": [
    "features.remove('time')\n",
    "print(features)"
   ]
  },
  {
   "cell_type": "code",
   "execution_count": 670,
   "metadata": {},
   "outputs": [
    {
     "name": "stdout",
     "output_type": "stream",
     "text": [
      "['time', 'const'] 0.709528060107\n",
      "['time', 'holiday'] 0.708483976581\n",
      "['time', 'workingday'] 0.698133616947\n",
      "['time', 'temp'] 0.746281899914\n",
      "['time', 'humidity'] 0.71552345561\n",
      "['time', 'windspeed'] 0.701646392739\n",
      "['time', 'year'] 0.709528060107\n",
      "['time', 'month'] 0.727917667702\n",
      "['time', 'day'] 0.707894645214\n",
      "['time', 'time'] 0.709528060107\n",
      "['time', 'season_1'] 0.727551069934\n",
      "['time', 'season_2'] 0.700467730006\n",
      "['time', 'season_3'] 0.717996737602\n",
      "['time', 'season_4'] 0.698300640768\n",
      "['time', 'weather_1'] 0.708333148689\n",
      "['time', 'weather_2'] 0.709528060107\n",
      "['time', 'weather_3'] 0.710024436334\n",
      "['time', 'weather_4'] 0.709528060107\n"
     ]
    }
   ],
   "source": [
    "# second round iteration\n",
    "for p in predictors:\n",
    "    pred_sec = ['time']\n",
    "    pred_sec.append(p)\n",
    "    auc_res = caculate_auc(pred_sec)\n",
    "    print(pred_sec, auc_res)\n",
    "    \n",
    "    #pick 'temp'"
   ]
  },
  {
   "cell_type": "code",
   "execution_count": 671,
   "metadata": {},
   "outputs": [
    {
     "name": "stdout",
     "output_type": "stream",
     "text": [
      "['const', 'holiday', 'workingday', 'humidity', 'windspeed', 'year', 'month', 'day', 'season_1', 'season_2', 'season_3', 'season_4', 'weather_1', 'weather_2', 'weather_3', 'weather_4']\n"
     ]
    }
   ],
   "source": [
    "features.remove('temp')\n",
    "print(features)"
   ]
  },
  {
   "cell_type": "code",
   "execution_count": 672,
   "metadata": {},
   "outputs": [
    {
     "name": "stdout",
     "output_type": "stream",
     "text": [
      "['time', 'temp', 'const'] 0.746281899914\n",
      "['time', 'temp', 'holiday'] 0.746163569393\n",
      "['time', 'temp', 'workingday'] 0.746165890634\n",
      "['time', 'temp', 'humidity'] 0.761532398717\n",
      "['time', 'temp', 'windspeed'] 0.747885138678\n",
      "['time', 'temp', 'year'] 0.746281899914\n",
      "['time', 'temp', 'month'] 0.764734233764\n",
      "['time', 'temp', 'day'] 0.746281899914\n",
      "['time', 'temp', 'season_1'] 0.758859542779\n",
      "['time', 'temp', 'season_2'] 0.746281899914\n",
      "['time', 'temp', 'season_3'] 0.751973265638\n",
      "['time', 'temp', 'season_4'] 0.770908206536\n",
      "['time', 'temp', 'weather_1'] 0.746994151528\n",
      "['time', 'temp', 'weather_2'] 0.746377018029\n",
      "['time', 'temp', 'weather_3'] 0.754982543215\n",
      "['time', 'temp', 'weather_4'] 0.746281899914\n"
     ]
    }
   ],
   "source": [
    "# third round iteration\n",
    "for p in features:\n",
    "    pred_third = ['time','temp']\n",
    "    pred_third.append(p)\n",
    "    auc_res = caculate_auc(pred_third)\n",
    "    print(pred_third, auc_res)\n",
    "    \n",
    "   #pick 'season_4'"
   ]
  },
  {
   "cell_type": "code",
   "execution_count": 673,
   "metadata": {},
   "outputs": [
    {
     "name": "stdout",
     "output_type": "stream",
     "text": [
      "['const', 'holiday', 'workingday', 'humidity', 'windspeed', 'year', 'month', 'day', 'season_1', 'season_2', 'season_3', 'weather_1', 'weather_2', 'weather_3', 'weather_4']\n"
     ]
    }
   ],
   "source": [
    "features.remove('season_4')\n",
    "print(features)"
   ]
  },
  {
   "cell_type": "code",
   "execution_count": 674,
   "metadata": {},
   "outputs": [
    {
     "name": "stdout",
     "output_type": "stream",
     "text": [
      "['time', 'temp', 'season_4', 'const'] 0.770908206536\n",
      "['time', 'temp', 'season_4', 'holiday'] 0.771713307779\n",
      "['time', 'temp', 'season_4', 'workingday'] 0.770796839736\n",
      "['time', 'temp', 'season_4', 'humidity'] 0.778720236682\n",
      "['time', 'temp', 'season_4', 'windspeed'] 0.771516107828\n",
      "['time', 'temp', 'season_4', 'year'] 0.770908206536\n",
      "['time', 'temp', 'season_4', 'month'] 0.7706947579\n",
      "['time', 'temp', 'season_4', 'day'] 0.771258555619\n",
      "['time', 'temp', 'season_4', 'season_1'] 0.770216793333\n",
      "['time', 'temp', 'season_4', 'season_2'] 0.77720515231\n",
      "['time', 'temp', 'season_4', 'season_3'] 0.772402399741\n",
      "['time', 'temp', 'season_4', 'weather_1'] 0.771924435174\n",
      "['time', 'temp', 'season_4', 'weather_2'] 0.7706947579\n",
      "['time', 'temp', 'season_4', 'weather_3'] 0.778469648195\n",
      "['time', 'temp', 'season_4', 'weather_4'] 0.770908206536\n"
     ]
    }
   ],
   "source": [
    "# forth round iteration\n",
    "for p in features:\n",
    "    pred_forth = ['time','temp','season_4']\n",
    "    pred_forth.append(p)\n",
    "    auc_res = caculate_auc(pred_forth)\n",
    "    print(pred_forth, auc_res)\n",
    "    \n",
    "  #remove 'humidity'"
   ]
  },
  {
   "cell_type": "code",
   "execution_count": 675,
   "metadata": {},
   "outputs": [
    {
     "name": "stdout",
     "output_type": "stream",
     "text": [
      "['const', 'holiday', 'workingday', 'windspeed', 'year', 'month', 'day', 'season_1', 'season_2', 'season_3', 'weather_1', 'weather_2', 'weather_3', 'weather_4']\n"
     ]
    }
   ],
   "source": [
    "features.remove('humidity')\n",
    "print(features)"
   ]
  },
  {
   "cell_type": "code",
   "execution_count": 676,
   "metadata": {},
   "outputs": [
    {
     "name": "stdout",
     "output_type": "stream",
     "text": [
      "['time', 'temp', 'season_4', 'humidity', 'const'] 0.778604227401\n",
      "['time', 'temp', 'season_4', 'humidity', 'holiday'] 0.77848589688\n",
      "['time', 'temp', 'season_4', 'humidity', 'workingday'] 0.779407007404\n",
      "['time', 'temp', 'season_4', 'humidity', 'windspeed'] 0.778717915441\n",
      "['time', 'temp', 'season_4', 'humidity', 'year'] 0.778028823479\n",
      "['time', 'temp', 'season_4', 'humidity', 'month'] 0.779759677727\n",
      "['time', 'temp', 'season_4', 'humidity', 'day'] 0.778717915441\n",
      "['time', 'temp', 'season_4', 'humidity', 'season_1'] 0.781242264729\n",
      "['time', 'temp', 'season_4', 'humidity', 'season_2'] 0.782634376098\n",
      "['time', 'temp', 'season_4', 'humidity', 'season_3'] 0.780794476291\n",
      "['time', 'temp', 'season_4', 'humidity', 'weather_1'] 0.78010770557\n",
      "['time', 'temp', 'season_4', 'humidity', 'weather_2'] 0.782400036296\n",
      "['time', 'temp', 'season_4', 'humidity', 'weather_3'] 0.783272400764\n",
      "['time', 'temp', 'season_4', 'humidity', 'weather_4'] 0.778720236682\n"
     ]
    }
   ],
   "source": [
    "# fifth round iteration\n",
    "for p in features:\n",
    "    pred_fifth = ['time','temp','season_4','humidity']\n",
    "    pred_fifth.append(p)\n",
    "    auc_res = caculate_auc(pred_fifth)\n",
    "    print(pred_fifth, auc_res)\n",
    "    \n",
    "  #remove 'weather_3'"
   ]
  },
  {
   "cell_type": "code",
   "execution_count": 677,
   "metadata": {},
   "outputs": [
    {
     "name": "stdout",
     "output_type": "stream",
     "text": [
      "['const', 'holiday', 'workingday', 'windspeed', 'year', 'month', 'day', 'season_1', 'season_2', 'season_3', 'weather_1', 'weather_2', 'weather_4']\n"
     ]
    }
   ],
   "source": [
    "features.remove('weather_3')\n",
    "print(features)"
   ]
  },
  {
   "cell_type": "code",
   "execution_count": 678,
   "metadata": {},
   "outputs": [
    {
     "name": "stdout",
     "output_type": "stream",
     "text": [
      "['time', 'temp', 'season_4', 'humidity', 'weather_3', 'const'] 0.783158712724\n",
      "['time', 'temp', 'season_4', 'humidity', 'weather_3', 'holiday'] 0.783154070243\n",
      "['time', 'temp', 'season_4', 'humidity', 'weather_3', 'workingday'] 0.784873318287\n",
      "['time', 'temp', 'season_4', 'humidity', 'weather_3', 'windspeed'] 0.783149427761\n",
      "['time', 'temp', 'season_4', 'humidity', 'weather_3', 'year'] 0.783267758283\n",
      "['time', 'temp', 'season_4', 'humidity', 'weather_3', 'month'] 0.78280372116\n",
      "['time', 'temp', 'season_4', 'humidity', 'weather_3', 'day'] 0.783499776844\n",
      "['time', 'temp', 'season_4', 'humidity', 'weather_3', 'season_1'] 0.785212061167\n",
      "['time', 'temp', 'season_4', 'humidity', 'weather_3', 'season_2'] 0.789000906339\n",
      "['time', 'temp', 'season_4', 'humidity', 'weather_3', 'season_3'] 0.786483520774\n",
      "['time', 'temp', 'season_4', 'humidity', 'weather_3', 'weather_1'] 0.784789806377\n",
      "['time', 'temp', 'season_4', 'humidity', 'weather_3', 'weather_2'] 0.784903494417\n",
      "['time', 'temp', 'season_4', 'humidity', 'weather_3', 'weather_4'] 0.783272400764\n"
     ]
    }
   ],
   "source": [
    "# sixth round iteration\n",
    "for p in features:\n",
    "    pred_sixth = ['time','temp','season_4','humidity','weather_3']\n",
    "    pred_sixth.append(p)\n",
    "    auc_res = caculate_auc(pred_sixth)\n",
    "    print(pred_sixth, auc_res)\n",
    "    \n",
    "  #remove 'season_2'"
   ]
  },
  {
   "cell_type": "code",
   "execution_count": 679,
   "metadata": {},
   "outputs": [
    {
     "name": "stdout",
     "output_type": "stream",
     "text": [
      "['const', 'holiday', 'workingday', 'windspeed', 'year', 'month', 'day', 'season_1', 'season_3', 'weather_1', 'weather_2', 'weather_4']\n"
     ]
    }
   ],
   "source": [
    "features.remove('season_2')\n",
    "print(features)"
   ]
  },
  {
   "cell_type": "code",
   "execution_count": 680,
   "metadata": {},
   "outputs": [
    {
     "name": "stdout",
     "output_type": "stream",
     "text": [
      "['time', 'temp', 'season_4', 'humidity', 'weather_3', 'season_2', 'const'] 0.788773530259\n",
      "['time', 'temp', 'season_4', 'humidity', 'weather_3', 'season_2', 'holiday'] 0.788541511697\n",
      "['time', 'temp', 'season_4', 'humidity', 'weather_3', 'season_2', 'workingday'] 0.786360547771\n",
      "['time', 'temp', 'season_4', 'humidity', 'weather_3', 'season_2', 'windspeed'] 0.788318778099\n",
      "['time', 'temp', 'season_4', 'humidity', 'weather_3', 'season_2', 'year'] 0.7887758515\n",
      "['time', 'temp', 'season_4', 'humidity', 'weather_3', 'season_2', 'month'] 0.786344299086\n",
      "['time', 'temp', 'season_4', 'humidity', 'weather_3', 'season_2', 'day'] 0.788773530259\n",
      "['time', 'temp', 'season_4', 'humidity', 'weather_3', 'season_2', 'season_1'] 0.78866216346\n",
      "['time', 'temp', 'season_4', 'humidity', 'weather_3', 'season_2', 'season_3'] 0.788200447577\n",
      "['time', 'temp', 'season_4', 'humidity', 'weather_3', 'season_2', 'weather_1'] 0.78616334782\n",
      "['time', 'temp', 'season_4', 'humidity', 'weather_3', 'season_2', 'weather_2'] 0.786395366381\n",
      "['time', 'temp', 'season_4', 'humidity', 'weather_3', 'season_2', 'weather_4'] 0.789000906339\n"
     ]
    }
   ],
   "source": [
    "# seventh round iteration\n",
    "for p in features:\n",
    "    pred_seventh = ['time','temp','season_4','humidity','weather_3','season_2']\n",
    "    pred_seventh.append(p)\n",
    "    auc_res = caculate_auc(pred_seventh)\n",
    "    print(pred_seventh, auc_res)\n",
    "    \n",
    "  #remove 'season_3'"
   ]
  },
  {
   "cell_type": "code",
   "execution_count": 681,
   "metadata": {},
   "outputs": [
    {
     "name": "stdout",
     "output_type": "stream",
     "text": [
      "['const', 'holiday', 'workingday', 'windspeed', 'year', 'month', 'day', 'season_1', 'weather_1', 'weather_2', 'weather_4']\n"
     ]
    }
   ],
   "source": [
    "features.remove('season_3')\n",
    "print(features)"
   ]
  },
  {
   "cell_type": "code",
   "execution_count": 682,
   "metadata": {},
   "outputs": [
    {
     "name": "stdout",
     "output_type": "stream",
     "text": [
      "['time', 'temp', 'season_4', 'humidity', 'weather_3', 'season_2', 'season_3', 'const'] 0.788198126337\n",
      "['time', 'temp', 'season_4', 'humidity', 'weather_3', 'season_2', 'season_3', 'holiday'] 0.788084438297\n",
      "['time', 'temp', 'season_4', 'humidity', 'weather_3', 'season_2', 'season_3', 'workingday'] 0.786485842014\n",
      "['time', 'temp', 'season_4', 'humidity', 'weather_3', 'season_2', 'season_3', 'windspeed'] 0.788091402019\n",
      "['time', 'temp', 'season_4', 'humidity', 'weather_3', 'season_2', 'season_3', 'year'] 0.787966107775\n",
      "['time', 'temp', 'season_4', 'humidity', 'weather_3', 'season_2', 'season_3', 'month'] 0.787629686137\n",
      "['time', 'temp', 'season_4', 'humidity', 'weather_3', 'season_2', 'season_3', 'day'] 0.787973071497\n",
      "['time', 'temp', 'season_4', 'humidity', 'weather_3', 'season_2', 'season_3', 'season_1'] 0.788425502417\n",
      "['time', 'temp', 'season_4', 'humidity', 'weather_3', 'season_2', 'season_3', 'weather_1'] 0.786511375662\n",
      "['time', 'temp', 'season_4', 'humidity', 'weather_3', 'season_2', 'season_3', 'weather_2'] 0.786393045141\n",
      "['time', 'temp', 'season_4', 'humidity', 'weather_3', 'season_2', 'season_3', 'weather_4'] 0.788086759537\n"
     ]
    }
   ],
   "source": [
    "# eighth round iteration\n",
    "for p in features:\n",
    "    pred_eighth = ['time','temp','season_4','humidity','weather_3','season_2','season_3']\n",
    "    pred_eighth.append(p)\n",
    "    auc_res = caculate_auc(pred_eighth)\n",
    "    print(pred_eighth, auc_res)\n",
    "    \n",
    "  #remove 'year'"
   ]
  },
  {
   "cell_type": "code",
   "execution_count": 683,
   "metadata": {},
   "outputs": [
    {
     "name": "stdout",
     "output_type": "stream",
     "text": [
      "['const', 'holiday', 'workingday', 'windspeed', 'month', 'day', 'season_1', 'weather_1', 'weather_2', 'weather_4']\n"
     ]
    }
   ],
   "source": [
    "features.remove('year')\n",
    "print(features)"
   ]
  },
  {
   "cell_type": "code",
   "execution_count": 684,
   "metadata": {},
   "outputs": [
    {
     "name": "stdout",
     "output_type": "stream",
     "text": [
      "['time', 'temp', 'season_4', 'humidity', 'weather_3', 'season_2', 'season_3', 'year', 'const'] 0.787618079933\n",
      "['time', 'temp', 'season_4', 'humidity', 'weather_3', 'season_2', 'season_3', 'year', 'holiday'] 0.788195805096\n",
      "['time', 'temp', 'season_4', 'humidity', 'weather_3', 'season_2', 'season_3', 'year', 'workingday'] 0.787738731695\n",
      "['time', 'temp', 'season_4', 'humidity', 'weather_3', 'season_2', 'season_3', 'year', 'windspeed'] 0.787736410454\n",
      "['time', 'temp', 'season_4', 'humidity', 'weather_3', 'season_2', 'season_3', 'year', 'month'] 0.787852419735\n",
      "['time', 'temp', 'season_4', 'humidity', 'weather_3', 'season_2', 'season_3', 'year', 'day'] 0.787966107775\n",
      "['time', 'temp', 'season_4', 'humidity', 'weather_3', 'season_2', 'season_3', 'year', 'season_1'] 0.787158685291\n",
      "['time', 'temp', 'season_4', 'humidity', 'weather_3', 'season_2', 'season_3', 'year', 'weather_1'] 0.786158705339\n",
      "['time', 'temp', 'season_4', 'humidity', 'weather_3', 'season_2', 'season_3', 'year', 'weather_2'] 0.786615778739\n",
      "['time', 'temp', 'season_4', 'humidity', 'weather_3', 'season_2', 'season_3', 'year', 'weather_4'] 0.788077474575\n"
     ]
    }
   ],
   "source": [
    "# ninth round iteration\n",
    "for p in features:\n",
    "    pred_ninth = ['time','temp','season_4','humidity','weather_3','season_2','season_3','year']\n",
    "    pred_ninth.append(p)\n",
    "    auc_res = caculate_auc(pred_ninth)\n",
    "    print(pred_ninth, auc_res)\n",
    "  # None of the result is greater than the maximum in the ninth iteration result.\n",
    "#So we can conclude the best predictor combination is\n",
    "#['time', 'temp', 'season_4', 'humidity', 'weather_3', 'season_2', 'season_3', 'year',]  "
   ]
  },
  {
   "cell_type": "code",
   "execution_count": 685,
   "metadata": {
    "collapsed": true
   },
   "outputs": [],
   "source": [
    "_features=['time','temp','season_4','humidity','weather_3','season_2','season_3','year']\n",
    "x_train_log=x_train_log[_features]\n",
    "x_test_log=x_test_log[_features]\n",
    "x_train_log['intercept'] = 1.0\n",
    "x_test_log['intercept'] = 1.0\n",
    "predictors_log=predictors[_features]\n",
    "predictors_log['intercept']=1.0"
   ]
  },
  {
   "cell_type": "markdown",
   "metadata": {},
   "source": [
    "## Significance Analysis\n",
    "From the summary of the logisic regression, we can see that the p_value of the season_3 variable is quite large. So we can make a conclusion that the season_3 variable is not siginificant. We need to delete the variable from our logistic model."
   ]
  },
  {
   "cell_type": "code",
   "execution_count": 686,
   "metadata": {},
   "outputs": [
    {
     "name": "stdout",
     "output_type": "stream",
     "text": [
      "Optimization terminated successfully.\n",
      "         Current function value: 0.463547\n",
      "         Iterations 9\n"
     ]
    },
    {
     "data": {
      "text/html": [
       "<table class=\"simpletable\">\n",
       "<caption>Logit Regression Results</caption>\n",
       "<tr>\n",
       "  <th>Dep. Variable:</th>         <td>y</td>        <th>  No. Observations:  </th>  <td>  8708</td> \n",
       "</tr>\n",
       "<tr>\n",
       "  <th>Model:</th>               <td>Logit</td>      <th>  Df Residuals:      </th>  <td>  8699</td> \n",
       "</tr>\n",
       "<tr>\n",
       "  <th>Method:</th>               <td>MLE</td>       <th>  Df Model:          </th>  <td>     8</td> \n",
       "</tr>\n",
       "<tr>\n",
       "  <th>Date:</th>          <td>Fri, 16 Feb 2018</td> <th>  Pseudo R-squ.:     </th>  <td>0.3312</td> \n",
       "</tr>\n",
       "<tr>\n",
       "  <th>Time:</th>              <td>20:27:37</td>     <th>  Log-Likelihood:    </th> <td> -4036.6</td>\n",
       "</tr>\n",
       "<tr>\n",
       "  <th>converged:</th>           <td>True</td>       <th>  LL-Null:           </th> <td> -6035.5</td>\n",
       "</tr>\n",
       "<tr>\n",
       "  <th> </th>                      <td> </td>        <th>  LLR p-value:       </th>  <td> 0.000</td> \n",
       "</tr>\n",
       "</table>\n",
       "<table class=\"simpletable\">\n",
       "<tr>\n",
       "      <td></td>         <th>coef</th>     <th>std err</th>      <th>z</th>      <th>P>|z|</th>  <th>[0.025</th>    <th>0.975]</th>  \n",
       "</tr>\n",
       "<tr>\n",
       "  <th>time</th>      <td>    0.1316</td> <td>    0.004</td> <td>   30.129</td> <td> 0.000</td> <td>    0.123</td> <td>    0.140</td>\n",
       "</tr>\n",
       "<tr>\n",
       "  <th>temp</th>      <td>    0.1444</td> <td>    0.007</td> <td>   22.104</td> <td> 0.000</td> <td>    0.132</td> <td>    0.157</td>\n",
       "</tr>\n",
       "<tr>\n",
       "  <th>season_4</th>  <td>    1.3873</td> <td>    0.086</td> <td>   16.111</td> <td> 0.000</td> <td>    1.219</td> <td>    1.556</td>\n",
       "</tr>\n",
       "<tr>\n",
       "  <th>humidity</th>  <td>   -0.0300</td> <td>    0.002</td> <td>  -17.893</td> <td> 0.000</td> <td>   -0.033</td> <td>   -0.027</td>\n",
       "</tr>\n",
       "<tr>\n",
       "  <th>weather_3</th> <td>   -0.8432</td> <td>    0.113</td> <td>   -7.460</td> <td> 0.000</td> <td>   -1.065</td> <td>   -0.622</td>\n",
       "</tr>\n",
       "<tr>\n",
       "  <th>season_2</th>  <td>    0.3956</td> <td>    0.102</td> <td>    3.873</td> <td> 0.000</td> <td>    0.195</td> <td>    0.596</td>\n",
       "</tr>\n",
       "<tr>\n",
       "  <th>season_3</th>  <td>   -0.0124</td> <td>    0.129</td> <td>   -0.096</td> <td> 0.923</td> <td>   -0.265</td> <td>    0.241</td>\n",
       "</tr>\n",
       "<tr>\n",
       "  <th>year</th>      <td>    0.9626</td> <td>    0.057</td> <td>   16.946</td> <td> 0.000</td> <td>    0.851</td> <td>    1.074</td>\n",
       "</tr>\n",
       "<tr>\n",
       "  <th>intercept</th> <td>-1939.1752</td> <td>  114.274</td> <td>  -16.970</td> <td> 0.000</td> <td>-2163.148</td> <td>-1715.203</td>\n",
       "</tr>\n",
       "</table>"
      ],
      "text/plain": [
       "<class 'statsmodels.iolib.summary.Summary'>\n",
       "\"\"\"\n",
       "                           Logit Regression Results                           \n",
       "==============================================================================\n",
       "Dep. Variable:                      y   No. Observations:                 8708\n",
       "Model:                          Logit   Df Residuals:                     8699\n",
       "Method:                           MLE   Df Model:                            8\n",
       "Date:                Fri, 16 Feb 2018   Pseudo R-squ.:                  0.3312\n",
       "Time:                        20:27:37   Log-Likelihood:                -4036.6\n",
       "converged:                       True   LL-Null:                       -6035.5\n",
       "                                        LLR p-value:                     0.000\n",
       "==============================================================================\n",
       "                 coef    std err          z      P>|z|      [0.025      0.975]\n",
       "------------------------------------------------------------------------------\n",
       "time           0.1316      0.004     30.129      0.000       0.123       0.140\n",
       "temp           0.1444      0.007     22.104      0.000       0.132       0.157\n",
       "season_4       1.3873      0.086     16.111      0.000       1.219       1.556\n",
       "humidity      -0.0300      0.002    -17.893      0.000      -0.033      -0.027\n",
       "weather_3     -0.8432      0.113     -7.460      0.000      -1.065      -0.622\n",
       "season_2       0.3956      0.102      3.873      0.000       0.195       0.596\n",
       "season_3      -0.0124      0.129     -0.096      0.923      -0.265       0.241\n",
       "year           0.9626      0.057     16.946      0.000       0.851       1.074\n",
       "intercept  -1939.1752    114.274    -16.970      0.000   -2163.148   -1715.203\n",
       "==============================================================================\n",
       "\"\"\""
      ]
     },
     "execution_count": 686,
     "metadata": {},
     "output_type": "execute_result"
    }
   ],
   "source": [
    "\n",
    "log_model = sm.Logit(y_train_log, x_train_log).fit()\n",
    "log_model.summary()\n"
   ]
  },
  {
   "cell_type": "code",
   "execution_count": 687,
   "metadata": {},
   "outputs": [],
   "source": [
    "x_train_log=x_train_log.drop('season_3', axis=1)\n",
    "x_test_log=x_test_log.drop('season_3',axis=1)"
   ]
  },
  {
   "cell_type": "code",
   "execution_count": 688,
   "metadata": {},
   "outputs": [
    {
     "data": {
      "text/plain": [
       "array([[ 0.19522038,  0.80477962],\n",
       "       [ 0.34444245,  0.65555755],\n",
       "       [ 0.46428213,  0.53571787],\n",
       "       ..., \n",
       "       [ 0.03005668,  0.96994332],\n",
       "       [ 0.48390029,  0.51609971],\n",
       "       [ 0.89139799,  0.10860201]])"
      ]
     },
     "execution_count": 688,
     "metadata": {},
     "output_type": "execute_result"
    }
   ],
   "source": [
    "lr = LogisticRegression(C=1e9)\n",
    "\n",
    "# Logistic regression metrics\n",
    "LRm = lr.fit(x_train_log, y_train_log)\n",
    "\n",
    "LRm.predict_proba(x_test_log) "
   ]
  },
  {
   "cell_type": "code",
   "execution_count": 689,
   "metadata": {},
   "outputs": [
    {
     "data": {
      "text/plain": [
       "array([[ 0.12193465,  0.14116529,  1.36081047, -0.03088229, -0.7887295 ,\n",
       "         0.3928865 , -0.00137333, -0.00427515]])"
      ]
     },
     "execution_count": 689,
     "metadata": {},
     "output_type": "execute_result"
    }
   ],
   "source": [
    "\n",
    "LRm.coef_"
   ]
  },
  {
   "cell_type": "code",
   "execution_count": 690,
   "metadata": {},
   "outputs": [
    {
     "data": {
      "text/plain": [
       "array([-0.00427515])"
      ]
     },
     "execution_count": 690,
     "metadata": {},
     "output_type": "execute_result"
    }
   ],
   "source": [
    "LRm.intercept_"
   ]
  },
  {
   "cell_type": "code",
   "execution_count": 691,
   "metadata": {},
   "outputs": [
    {
     "data": {
      "text/plain": [
       "array([ 1.41643942,  0.64355907,  0.14311525, ...,  3.47415263,\n",
       "        0.06442112, -2.10510111])"
      ]
     },
     "execution_count": 691,
     "metadata": {},
     "output_type": "execute_result"
    }
   ],
   "source": [
    "\n",
    "LRm.decision_function(x_test_log) # Predict confidence scores for samples."
   ]
  },
  {
   "cell_type": "code",
   "execution_count": 692,
   "metadata": {
    "collapsed": true
   },
   "outputs": [],
   "source": [
    "y_pred=LRm.predict(x_test_log)"
   ]
  },
  {
   "cell_type": "markdown",
   "metadata": {},
   "source": [
    "## Confusion Matrix"
   ]
  },
  {
   "cell_type": "code",
   "execution_count": 693,
   "metadata": {},
   "outputs": [
    {
     "data": {
      "text/plain": [
       "array([[850, 204],\n",
       "       [243, 881]], dtype=int64)"
      ]
     },
     "execution_count": 693,
     "metadata": {},
     "output_type": "execute_result"
    }
   ],
   "source": [
    "confusion_matrix(y_test_log, y_pred)"
   ]
  },
  {
   "cell_type": "code",
   "execution_count": 694,
   "metadata": {},
   "outputs": [
    {
     "name": "stdout",
     "output_type": "stream",
     "text": [
      "Accuracy full: 0.795\n",
      "Precision full: 0.812\n",
      "Recall full: 0.784\n"
     ]
    }
   ],
   "source": [
    "# Accuracy, precision and recall\n",
    "print(\"Accuracy full:\", np.round(accuracy_score(y_test_log, y_pred), 3))\n",
    "print(\"Precision full:\", np.round(precision_score(y_test_log, y_pred), 3))\n",
    "print(\"Recall full:\", np.round(recall_score(y_test_log, y_pred), 3))"
   ]
  },
  {
   "cell_type": "markdown",
   "metadata": {},
   "source": [
    "## K-Fold Cross-Validation of Logistic Regression"
   ]
  },
  {
   "cell_type": "code",
   "execution_count": 695,
   "metadata": {},
   "outputs": [
    {
     "name": "stdout",
     "output_type": "stream",
     "text": [
      "[0.79568411386593207, 0.78512396694214881, 0.80348943985307619, 0.79292929292929293, 0.79384756657483935]\n",
      "0.794214876033\n",
      "0.00587551635374\n"
     ]
    }
   ],
   "source": [
    "#cross validation\n",
    "k=5\n",
    "acc=[]\n",
    "for i in range(k):\n",
    "    x_train, x_test, y_train, y_test = train_test_split(predictors_log, target_bi, test_size= 0.2, random_state=i)\n",
    "    # Logistic regression metric\n",
    "    LRm = lr.fit(x_train, y_train['target_bi'])\n",
    "    a=metrics.accuracy_score(y_test['target_bi'], LRm.predict(x_test))\n",
    "    acc.append(a)\n",
    "    \n",
    "print (acc)\n",
    "print (np.mean(acc))\n",
    "print (np.std(acc))"
   ]
  },
  {
   "cell_type": "code",
   "execution_count": null,
   "metadata": {},
   "outputs": [],
   "source": []
  },
  {
   "cell_type": "code",
   "execution_count": null,
   "metadata": {
    "collapsed": true
   },
   "outputs": [],
   "source": []
  }
 ],
 "metadata": {
  "kernelspec": {
   "display_name": "Python 3",
   "language": "python",
   "name": "python3"
  },
  "language_info": {
   "codemirror_mode": {
    "name": "ipython",
    "version": 3
   },
   "file_extension": ".py",
   "mimetype": "text/x-python",
   "name": "python",
   "nbconvert_exporter": "python",
   "pygments_lexer": "ipython3",
   "version": "3.6.1"
  }
 },
 "nbformat": 4,
 "nbformat_minor": 2
}
